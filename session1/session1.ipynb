{
 "cells": [
  {
   "cell_type": "markdown",
   "metadata": {},
   "source": [
    "# Base Concepts #\n",
    "\n",
    "## Directory structure ##\n",
    "\n",
    "- Root directory is `/` for osx/mac, effectively `C:\\` for windows.\n",
    "- User home directory is `/home/username` for osx/mac, `C:\\Users\\username\\` for windows.\n",
    "- Desktop is NOT the root directory. Each user has a desktop directory `/home/username/Desktop` or `C:\\Users\\username\\Desktop`\n",
    "- DO NOT create directory names with spaces in them. Spaces are typically used as argument delimiters for terminal based commands. \n",
    "\n",
    "## Use the terminal to send text based commands to your computer ##\n",
    "\n",
    "On Windows, the terminal is called 'cmd'. On OSX, find it using 'terminal'.\n",
    "\n",
    "When you specify directories, they can be full paths or a directory relative to your current directory. Full path starts with your system's root directory, which is / for OSX/Linux, and C:\\ for Windows.\n",
    "    Single . means current directory, and double .. means up one directory. For example, cd .. means change to upper directory.\n",
    "\n",
    "### OSX + Linux\n",
    "\n",
    "- Change directory to 'DIR': **`cd DIR`**\n",
    "  - Remember, your user home directory is **`/home/USERNAME/`**\n",
    "- Print out your current directory: **`pwd`**\n",
    "- Move file 'FILE' to directory 'DIR': **`mv FILE DIR`**\n",
    "- Remove file 'FILE': **`rm FILE`**\n",
    "- Remove directory 'DIR' and its contents: **`rm -rf DIR`**\n",
    "- View contents of current directory: **`ls`**\n",
    "  - Including hidden files: **`ls -a`**\n",
    "  - View contents of a target directory: **`ls DIR`**\n",
    "- Open the file explorer in the directory 'DIR'\n",
    "  - OSX: **`open DIR`**\n",
    "  - Linux: **`nautilus DIR`**\n",
    "\n",
    "### Windows\n",
    "\n",
    "- Change directory to 'DIR': **`cd DIR`**\n",
    "  - Remember, your user home directory is **`C:\\Users\\USERNAME\\`**\n",
    "- Print out your current directory: **`echo %cd%`**\n",
    "- Move file 'FILE' to directory 'DIR': **`move FILE DIR`**\n",
    "- Remove file 'FILE': **`del FILE`**\n",
    "- Remove directory 'DIR' and its contents: **`rd /s /q`**\n",
    "- View contents of current directory (including hidden files): **`dir`**\n",
    "  - View contents of a target directory: **`dir DIR`**\n",
    "- Open the file explorer in the directory 'DIR': **`explorer DIR`**\n",
    "\n",
    "\n",
    "## Environment variables ##\n",
    "\n",
    "A set of dynamic named values that can affect the way running processes will behave on a computer. They are part of the environment in which a process runs. Split into user defined and system defined. \n",
    "\n",
    "To list current environment variables: \n",
    "- OSX/Linux: `printenv` or `echo $PATH` \n",
    "- Windows: `set` or `echo %PATH%` \n",
    "\n",
    "To store (user) environment variables: \n",
    "  - OSX/Linux: The `.bashrc` or `.cshrc` file in your home directory depending on which shell you are using. Multiple value environment variables are colon delimited. \n",
    "  - Windows: Use control panel --> System and Security --> System --> Advanced System Settings --> Environment variables \n"
   ]
  },
  {
   "cell_type": "markdown",
   "metadata": {},
   "source": [
    "## Setup and Installation of Important Software ##\n",
    "\n",
    "### Install Git ### \n",
    "\n",
    "https://git-scm.com/downloads for windows and mac. Linux comes with git. Run the installer.\n",
    "\n",
    "### Ensure the git executable directory is in your PATH ###\n",
    "\n",
    "See the 'environment variables' section above. \n",
    "\n",
    "`where git` for windows to check. Default: `C:\\Program Files\\Git\\bin`\n",
    "\n",
    "`which git` for osx and linux to check. Default: `/usr/bin/git` or `/usr/local/git/bin`\n",
    "\n",
    "### Configure user in git ###\n",
    "\n",
    "`git config --global user.name \"First Last\"`\n",
    "\n",
    "`git config --global user.email \"myemail@emaildomain.com\"`\n",
    "\n",
    "### Clone this repository ###\n",
    "\n",
    "- Choose a reasonable location. Should be a directory under your user home. \n",
    "- `git clone https://github.com/cx1111/IAP2017-comp-essentials.git`\n",
    "\n",
    "\n",
    "### Install Python 2.7 and 3.5/3.6 ###\n",
    "\n",
    "https://www.python.org/downloads/ \n",
    "\n",
    "Windows - Download and run *Windows x86-64 executable installer*. Linux and OSX should come with python. Can download newer/different python versions from the above source. \n",
    "\n",
    "Please ensure you have python2.7 and python3.5 and/or python3.6 installed. \n",
    "\n",
    "https://docs.python.org/3/using/windows.html \n",
    "\n",
    "For windows, default path: `C:\\Users\\username\\AppData\\Local\\Programs\\Python\\Python36`. \n",
    "\n",
    "**Personal recommendation** as alternative to above: `C:\\Users\\username\\Software\\Python\\Python36`\n",
    "\n",
    "\n",
    "### Ensure one python executable directory is in your PATH ###\n",
    "\n",
    "See the 'environment variables' section above. \n",
    "\n",
    "`where python` for windows to check. \n",
    "\n",
    "`which python` for osx and linux to check. \n",
    "\n",
    "\n",
    "### Install pip ###\n",
    "\n",
    "Pip is a recursive acronym that can stand for either \"Pip Installs Packages\" or \"Pip Installs Python\". It is the standard package management system used to install and manage software packages written in Python. Each version of Python requires a different version of pip. \n",
    "\n",
    "If you don't have any version of pip on your computer:\n",
    "\n",
    "- Download `get-pip.py` file from https://pip.pypa.io/en/stable/installing/\n",
    "- From a terminal, navigate to the directory you downloaded `get-pip.py` into and run: `python get-pip.py`. It doesn't matter which python version you use to call that. We only need one pip for now. \n",
    "\n",
    "### Set up a virtual python environment ###\n",
    "\n",
    "http://docs.python-guide.org/en/latest/dev/virtualenvs/\n",
    "\n",
    "A Virtual Environment is a tool to keep the dependencies required by different projects in separate places, by creating virtual Python environments for them. It solves the “Project X depends on version 1.x but, Project Y needs 4.x” dilemma, and keeps your global site-packages directory clean and manageable.\n",
    "\n",
    "- Use pip to install the 'virtualenv' package from the terminal: `pip install virtualenv`\n",
    "- Choose/create a directory in which you will install your future python environments. ie. /home/username/Software/pythonenvs/ \n",
    "- Change to that directory and create your new virtual environment: `virtualenv -p /usr/bin/python3.6 <newenvname>`\n",
    "- Activate the virtual environment by running the **activate** script created in your new environment. With OSX/Linux, run shell scripts with `source`. With windows, just specify the script.  \n",
    "  - Linux and OSX eg: `source /home/username/Software/pythonenvs/newenvname/bin/activate`\n",
    "  - Windows eg: `C:\\Users\\username\\Software\\pythonenvs\\newenvname\\Scripts\\activate`\n",
    "- To deactivate the virtual environment, type `deactivate`\n",
    "\n",
    "**Bonus:** Download and implement virtualenvwrapper\n",
    "\n",
    "### Install all your favorite python packages in your virtual environment ###\n",
    "\n",
    "These are some key packages. Only need to install jupyter for this class. \n",
    "\n",
    "- `pip install jupyter` \n",
    "- `pip install numpy`\n",
    "- `pip install matplotlib`\n",
    "- `pip install pandas`\n",
    "- `pip install wfdb` (my waveform database (WFDB) file reading package (under development). This is optional :D )\n",
    "\n",
    "### Open your local copy of this notebook file! ###\n",
    "\n",
    "Change directory to where you downloaded this git repository. eg: `cd /home/username/Projects/IAP2017-comp-essentials`\n",
    "\n",
    "Open jupyter notebook (your virtual environment should be active): `jupyter-notebook` "
   ]
  },
  {
   "cell_type": "markdown",
   "metadata": {},
   "source": [
    "![title](http://i.imgur.com/p099l9p.png)"
   ]
  },
  {
   "cell_type": "markdown",
   "metadata": {},
   "source": [
    "# Encoding Information in Files #"
   ]
  },
  {
   "cell_type": "markdown",
   "metadata": {},
   "source": [
    "http://www.asciitable.com/"
   ]
  },
  {
   "cell_type": "code",
   "execution_count": 1,
   "metadata": {
    "collapsed": false
   },
   "outputs": [
    {
     "name": "stdout",
     "output_type": "stream",
     "text": [
      "\n",
      "/home/chen/Software/pythonenvs/python3.5/lib/python35.zip\n",
      "/home/chen/Software/pythonenvs/python3.5/lib/python3.5\n",
      "/home/chen/Software/pythonenvs/python3.5/lib/python3.5/plat-x86_64-linux-gnu\n",
      "/home/chen/Software/pythonenvs/python3.5/lib/python3.5/lib-dynload\n",
      "/usr/lib/python3.5\n",
      "/usr/lib/python3.5/plat-x86_64-linux-gnu\n",
      "/home/chen/Software/pythonenvs/python3.5/lib/python3.5/site-packages\n",
      "/home/chen/Software/pythonenvs/python3.5/lib/python3.5/site-packages/IPython/extensions\n",
      "/home/chen/.ipython\n",
      "\n",
      "\n",
      "Location of numpy package:\n",
      " ['/home/chen/Software/pythonenvs/python3.5/lib/python3.5/site-packages/numpy']\n"
     ]
    }
   ],
   "source": [
    "# Import python packages\n",
    "import numpy as np\n",
    "import os\n",
    "import sys\n",
    "import wfdb \n",
    "\n",
    "# These are where python looks for packages like numpy and jupyter.\n",
    "print(\"\\n\".join(sys.path)) \n",
    "\n",
    "# Eg. This is where the numpy package files have been installed\n",
    "print(\"\\n\\nLocation of numpy package:\\n\", np.__path__)\n"
   ]
  },
  {
   "cell_type": "code",
   "execution_count": 1,
   "metadata": {
    "collapsed": false
   },
   "outputs": [],
   "source": [
    "# Create file 1\n",
    "import os\n",
    "import numpy as np\n",
    "\n",
    "f=open('file1','w')\n",
    "architectstring = 'Your life is the sum of a remainder of an unbalanced equation inherent to the programming of the matrix.'\n",
    "f.write(architectstring)\n",
    "f.close()"
   ]
  },
  {
   "cell_type": "code",
   "execution_count": 2,
   "metadata": {
    "collapsed": false
   },
   "outputs": [
    {
     "name": "stdout",
     "output_type": "stream",
     "text": [
      "ASCII text of file 1:\n",
      "Your life is the sum of a remainder of an unbalanced equation inherent to the programming of the matrix.\n",
      "\n",
      "Size of file 1 in bytes:  104\n",
      "\n",
      "String length of the original string:  104\n"
     ]
    }
   ],
   "source": [
    "# Inspect file 1\n",
    "\n",
    "f=open('file1')\n",
    "contents = f.read()\n",
    "print(\"ASCII text of file 1:\")\n",
    "print(contents)\n",
    "\n",
    "print(\"\\nSize of file 1 in bytes: \",os.path.getsize('file1'))\n",
    "print(\"\\nString length of the original string: \",len(architectstring))"
   ]
  },
  {
   "cell_type": "code",
   "execution_count": 8,
   "metadata": {
    "collapsed": false
   },
   "outputs": [],
   "source": [
    "# Create file 2\n",
    "numbersarray2 = np.array(range(48,80))\n",
    "\n",
    "f=open('file2','wb')\n",
    "# help(numbersarray.tofile)\n",
    "numbersarray2.tofile(f)\n",
    "f.close()"
   ]
  },
  {
   "cell_type": "code",
   "execution_count": 9,
   "metadata": {
    "collapsed": false
   },
   "outputs": [
    {
     "name": "stdout",
     "output_type": "stream",
     "text": [
      "Unsigned 8 bit interpretation (printed in hexadecimal):\n",
      "b'0\\x00\\x00\\x00\\x00\\x00\\x00\\x001\\x00\\x00\\x00\\x00\\x00\\x00\\x002\\x00\\x00\\x00\\x00\\x00\\x00\\x003\\x00\\x00\\x00\\x00\\x00\\x00\\x004\\x00\\x00\\x00\\x00\\x00\\x00\\x005\\x00\\x00\\x00\\x00\\x00\\x00\\x006\\x00\\x00\\x00\\x00\\x00\\x00\\x007\\x00\\x00\\x00\\x00\\x00\\x00\\x008\\x00\\x00\\x00\\x00\\x00\\x00\\x009\\x00\\x00\\x00\\x00\\x00\\x00\\x00:\\x00\\x00\\x00\\x00\\x00\\x00\\x00;\\x00\\x00\\x00\\x00\\x00\\x00\\x00<\\x00\\x00\\x00\\x00\\x00\\x00\\x00=\\x00\\x00\\x00\\x00\\x00\\x00\\x00>\\x00\\x00\\x00\\x00\\x00\\x00\\x00?\\x00\\x00\\x00\\x00\\x00\\x00\\x00@\\x00\\x00\\x00\\x00\\x00\\x00\\x00A\\x00\\x00\\x00\\x00\\x00\\x00\\x00B\\x00\\x00\\x00\\x00\\x00\\x00\\x00C\\x00\\x00\\x00\\x00\\x00\\x00\\x00D\\x00\\x00\\x00\\x00\\x00\\x00\\x00E\\x00\\x00\\x00\\x00\\x00\\x00\\x00F\\x00\\x00\\x00\\x00\\x00\\x00\\x00G\\x00\\x00\\x00\\x00\\x00\\x00\\x00H\\x00\\x00\\x00\\x00\\x00\\x00\\x00I\\x00\\x00\\x00\\x00\\x00\\x00\\x00J\\x00\\x00\\x00\\x00\\x00\\x00\\x00K\\x00\\x00\\x00\\x00\\x00\\x00\\x00L\\x00\\x00\\x00\\x00\\x00\\x00\\x00M\\x00\\x00\\x00\\x00\\x00\\x00\\x00N\\x00\\x00\\x00\\x00\\x00\\x00\\x00O\\x00\\x00\\x00\\x00\\x00\\x00\\x00'\n",
      "\n",
      "\n",
      "\n",
      "Unsigned 8 bit interpretation\n",
      "[48  0  0  0  0  0  0  0 49  0  0  0  0  0  0  0 50  0  0  0  0  0  0  0 51\n",
      "  0  0  0  0  0  0  0 52  0  0  0  0  0  0  0 53  0  0  0  0  0  0  0 54  0\n",
      "  0  0  0  0  0  0 55  0  0  0  0  0  0  0 56  0  0  0  0  0  0  0 57  0  0\n",
      "  0  0  0  0  0 58  0  0  0  0  0  0  0 59  0  0  0  0  0  0  0 60  0  0  0\n",
      "  0  0  0  0 61  0  0  0  0  0  0  0 62  0  0  0  0  0  0  0 63  0  0  0  0\n",
      "  0  0  0 64  0  0  0  0  0  0  0 65  0  0  0  0  0  0  0 66  0  0  0  0  0\n",
      "  0  0 67  0  0  0  0  0  0  0 68  0  0  0  0  0  0  0 69  0  0  0  0  0  0\n",
      "  0 70  0  0  0  0  0  0  0 71  0  0  0  0  0  0  0 72  0  0  0  0  0  0  0\n",
      " 73  0  0  0  0  0  0  0 74  0  0  0  0  0  0  0 75  0  0  0  0  0  0  0 76\n",
      "  0  0  0  0  0  0  0 77  0  0  0  0  0  0  0 78  0  0  0  0  0  0  0 79  0\n",
      "  0  0  0  0  0  0]\n",
      "\n",
      "\n",
      "\n",
      "Unsigned 64 bit interpretation:\n",
      "[48 49 50 51 52 53 54 55 56 57 58 59 60 61 62 63 64 65 66 67 68 69 70 71 72\n",
      " 73 74 75 76 77 78 79]\n",
      "\n",
      "\n",
      "\n",
      "ASCII character representation:\n",
      "0\u0000\u0000\u0000\u0000\u0000\u0000\u00001\u0000\u0000\u0000\u0000\u0000\u0000\u00002\u0000\u0000\u0000\u0000\u0000\u0000\u00003\u0000\u0000\u0000\u0000\u0000\u0000\u00004\u0000\u0000\u0000\u0000\u0000\u0000\u00005\u0000\u0000\u0000\u0000\u0000\u0000\u00006\u0000\u0000\u0000\u0000\u0000\u0000\u00007\u0000\u0000\u0000\u0000\u0000\u0000\u00008\u0000\u0000\u0000\u0000\u0000\u0000\u00009\u0000\u0000\u0000\u0000\u0000\u0000\u0000:\u0000\u0000\u0000\u0000\u0000\u0000\u0000;\u0000\u0000\u0000\u0000\u0000\u0000\u0000<\u0000\u0000\u0000\u0000\u0000\u0000\u0000=\u0000\u0000\u0000\u0000\u0000\u0000\u0000>\u0000\u0000\u0000\u0000\u0000\u0000\u0000?\u0000\u0000\u0000\u0000\u0000\u0000\u0000@\u0000\u0000\u0000\u0000\u0000\u0000\u0000A\u0000\u0000\u0000\u0000\u0000\u0000\u0000B\u0000\u0000\u0000\u0000\u0000\u0000\u0000C\u0000\u0000\u0000\u0000\u0000\u0000\u0000D\u0000\u0000\u0000\u0000\u0000\u0000\u0000E\u0000\u0000\u0000\u0000\u0000\u0000\u0000F\u0000\u0000\u0000\u0000\u0000\u0000\u0000G\u0000\u0000\u0000\u0000\u0000\u0000\u0000H\u0000\u0000\u0000\u0000\u0000\u0000\u0000I\u0000\u0000\u0000\u0000\u0000\u0000\u0000J\u0000\u0000\u0000\u0000\u0000\u0000\u0000K\u0000\u0000\u0000\u0000\u0000\u0000\u0000L\u0000\u0000\u0000\u0000\u0000\u0000\u0000M\u0000\u0000\u0000\u0000\u0000\u0000\u0000N\u0000\u0000\u0000\u0000\u0000\u0000\u0000O\u0000\u0000\u0000\u0000\u0000\u0000\u0000\n",
      "\n",
      "Size of file 2 in bytes:  256\n"
     ]
    }
   ],
   "source": [
    "# Inspect file 2\n",
    "\n",
    "print('Unsigned 8 bit interpretation (printed in hexadecimal):')\n",
    "f1=open('file2', 'rb')\n",
    "contents1 = f1.read()\n",
    "print(contents1)\n",
    "f1.close()\n",
    "\n",
    "print('\\n\\n\\nUnsigned 8 bit interpretation')\n",
    "f2 = open('file2', 'rb')\n",
    "contents2 = np.fromfile(f2, dtype = 'uint8')\n",
    "#help(np.fromfile)\n",
    "print(contents2)\n",
    "f2.close()\n",
    "\n",
    "print('\\n\\n\\nUnsigned 64 bit interpretation:')\n",
    "f3 = open('file2', 'rb')\n",
    "contents3 = np.fromfile(f3, dtype = 'uint64')\n",
    "print(contents3)\n",
    "f3.close()\n",
    "\n",
    "print('\\n\\n\\nASCII character representation:')\n",
    "f4 = open('file2', 'r')\n",
    "contents4 = f4.read()\n",
    "print(contents4)\n",
    "f4.close()\n",
    "\n",
    "\n",
    "#f4.seek(0) # This is how to reset the file pointer to the beginning of the file. After calling read(), the pointer moves.\n",
    "\n",
    "print(\"\\nSize of file 2 in bytes: \",os.path.getsize('file2'))"
   ]
  },
  {
   "cell_type": "code",
   "execution_count": 10,
   "metadata": {
    "collapsed": false
   },
   "outputs": [],
   "source": [
    "# Create file 3\n",
    "\n",
    "numbersarray3 = np.array(range(48,80)).astype('uint8')\n",
    "f=open('file3','wb')\n",
    "numbersarray3.tofile(f)\n",
    "#help(numbersarray3.tofile)\n",
    "f.close()"
   ]
  },
  {
   "cell_type": "code",
   "execution_count": 11,
   "metadata": {
    "collapsed": false
   },
   "outputs": [
    {
     "name": "stdout",
     "output_type": "stream",
     "text": [
      "\n",
      "\n",
      "\n",
      "Unsigned 8 bit interpretation\n",
      "[48 49 50 51 52 53 54 55 56 57 58 59 60 61 62 63 64 65 66 67 68 69 70 71 72\n",
      " 73 74 75 76 77 78 79]\n",
      "\n",
      "\n",
      "\n",
      "Unsigned 64 bit interpretation:\n",
      "[3978425819141910832 4557147201846524216 5135868584551137600\n",
      " 5714589967255750984]\n",
      "\n",
      "\n",
      "\n",
      "ASCII character representation:\n",
      "0123456789:;<=>?@ABCDEFGHIJKLMNO\n",
      "\n",
      "Size of file 3 in bytes:  32\n"
     ]
    }
   ],
   "source": [
    "# Inspect file 3\n",
    "\n",
    "print('\\n\\n\\nUnsigned 8 bit interpretation')\n",
    "f2 = open('file3', 'rb')\n",
    "contents2 = np.fromfile(f2, dtype = 'uint8')\n",
    "#help(np.fromfile)\n",
    "print(contents2)\n",
    "f2.close()\n",
    "\n",
    "print('\\n\\n\\nUnsigned 64 bit interpretation:')\n",
    "f3 = open('file3', 'rb')\n",
    "contents3 = np.fromfile(f3, dtype = 'uint64')\n",
    "print(contents3)\n",
    "f3.close()\n",
    "\n",
    "print('\\n\\n\\nASCII character representation:')\n",
    "f4 = open('file3', 'r')\n",
    "contents4 = f4.read()\n",
    "print(contents4)\n",
    "f4.close()\n",
    "\n",
    "print(\"\\nSize of file 3 in bytes: \",os.path.getsize('file3'))\n",
    "\n",
    "# Look at the similarities and differences between files 2 and 3. "
   ]
  },
  {
   "cell_type": "code",
   "execution_count": 6,
   "metadata": {
    "collapsed": false
   },
   "outputs": [
    {
     "name": "stdout",
     "output_type": "stream",
     "text": [
      "The first 8 bytes values of the file:  [48 49 50 51 52 53 54 55]\n",
      "\n",
      "\n",
      "The bit shift factors:\n",
      " [                1               256             65536          16777216\n",
      "        4294967296     1099511627776   281474976710656 72057594037927936]\n",
      "\n",
      "\n",
      "The sum of the first 8 shifted numbers: 3.97842581914e+18\n"
     ]
    }
   ],
   "source": [
    "# How did we get this array? [3978425819141910832 4557147201846524216 5135868584551137600 5714589967255750984]\n",
    "\n",
    "# The first 8 bytes of the file\n",
    "first8numbers = numbersarray3[0:8].astype('uint64')\n",
    "print(\"The first 8 bytes values of the file: \", first8numbers)\n",
    "\n",
    "factors = 256**np.array(range(0,8))\n",
    "print(\"\\n\\nThe bit shift factors:\\n\", factors)\n",
    "\n",
    "blockvalue = sum(first8numbers*factors)\n",
    "\n",
    "print(\"\\n\\nThe sum of the first 8 shifted numbers:\", blockvalue)"
   ]
  },
  {
   "cell_type": "markdown",
   "metadata": {},
   "source": [
    "## The limitations of ASCII ##\n",
    "\n",
    "http://www.asciitable.com/\n",
    "\n",
    "1. Encoding written text:\n",
    "  - For traditional simple text, one out of 8 bits are wasted. Most characters in the extsecond half of the ended ASCII table aren't used. \n",
    "  - For more general purpose writing, 256 values not enough to encode everything. eg. mathematical symbols, foreign languages, etc.\n",
    "2. For encoding numerical data (saving written numbers to a text file):\n",
    "  - Less efficient. One character 0-9 can represent 10 possible values. One byte should be able to hold 256 values. Not this linear though. More complicated with floating points. \n",
    "  - But it doesn't matter much for small data sets. And at least text doesn't require proprietary software to read. It is common for people to store their data as comma separated text values (csv) written in text. "
   ]
  },
  {
   "cell_type": "markdown",
   "metadata": {},
   "source": [
    "## Text beyond ASCII - Unicode and UTF-8 ##\n",
    "\n",
    "https://en.wikipedia.org/wiki/Unicode\n",
    "\n",
    "**Unicode** -  A computing industry standard for the consistent encoding, representation, and handling of text expressed in most of the world's writing systems. The Unicode Standard, the latest version of Unicode contains a repertoire of more than 128,000 characters covering 135 modern and historic scripts, as well as multiple symbol sets. \n",
    "\n",
    "\n",
    "https://en.wikipedia.org/wiki/UTF-8\n",
    "\n",
    "**UTF-8** - A character encoding capable of encoding all possible characters, or code points, defined by Unicode. The encoding is variable-length and uses 8-bit code units. Each character takes up 1-4 bytes. Takes advantage of the fact that some characters (alphanumeric etc.) occur more frequently, so most characters only need 1 byte. \n",
    "\n"
   ]
  },
  {
   "cell_type": "markdown",
   "metadata": {},
   "source": [
    "## A practical numerical data file type example ##"
   ]
  },
  {
   "cell_type": "code",
   "execution_count": 12,
   "metadata": {
    "collapsed": false
   },
   "outputs": [
    {
     "name": "stdout",
     "output_type": "stream",
     "text": [
      "[[ 0.1  -0.08 -0.57 -0.66]\n",
      " [ 0.11 -0.06 -0.56 -0.66]\n",
      " [ 0.13 -0.06 -0.55 -0.67]\n",
      " ..., \n",
      " [-0.27 -0.17  0.13  0.15]\n",
      " [-0.27 -0.18  0.13  0.15]\n",
      " [-0.26 -0.18  0.12  0.16]]\n",
      "\n",
      "\n",
      " {'fs': 500.0, 'sampsperframe': [1, 1, 1, 1], 'nsampseg': [], 'baseline': [0, 0, 0, 0], 'nseg': 1, 'signame': ['ECG', 'ECG', 'ECG', 'ECG'], 'gain': [100.0, 100.0, 100.0, 100.0], 'basetime': '', 'initvalue': [10, -8, -57, -66], 'filename': ['myecgs.dat', 'myecgs.dat', 'myecgs.dat', 'myecgs.dat'], 'basedate': '', 'nsamp': 4000, 'byteoffset': [0, 0, 0, 0], 'units': ['mV', 'mV', 'mV', 'mV'], 'skew': [0, 0, 0, 0], 'comments': [' <age>: 25  <sex>: M  <diagnoses>: (none)  <medications>: (none)'], 'nsig': 4, 'fmt': ['16', '16', '16', '16']}\n"
     ]
    },
    {
     "data": {
      "image/png": "[encoded data removed]",
      "text/plain": [
       "<matplotlib.figure.Figure at 0x7f5efc0f8898>"
      ]
     },
     "metadata": {},
     "output_type": "display_data"
    }
   ],
   "source": [
    "# Real example of information encoding format\n",
    "# Waveform Database files from PhysioNet's signal archives: https://physionet.org/physiobank/database/\n",
    "import wfdb\n",
    "sig, fields = wfdb.rdsamp('myecgs')\n",
    "\n",
    "print(sig)\n",
    "print(\"\\n\\n\",fields)\n",
    "\n",
    "wfdb.plotwfdb(sig, fields)\n",
    "\n",
    "# The information about the signals are written in text format in the header .hea file.\n",
    "# The signals themselves are stored in the dat file in binary format."
   ]
  },
  {
   "cell_type": "markdown",
   "metadata": {},
   "source": [
    "# End of data files section. Onto programs! #\n",
    "\n",
    "![title](http://scontent.cdninstagram.com/t51.2885-15/s480x480/e35/15275520_1776971612556130_5847095732913307648_n.jpg?ig_cache_key=MTM5NTE5NDI1OTAzNjI5NjU5Mg%3D%3D.2)\n"
   ]
  },
  {
   "cell_type": "markdown",
   "metadata": {
    "collapsed": true
   },
   "source": [
    "## What is a Compiler? ##\n",
    "\n",
    "A computer program (or a set of programs) that transforms source code into another (often lower level) computer language such as object code, byte code, or machine code.\n",
    "\n",
    "In a compiled implementation of a language, a compiler (with linker) will translate the program directly into machine code which can be directly run by the machine. \n",
    "\n",
    "\n",
    "## What is an Interpreter? ##\n",
    "\n",
    "A computer program that directly executes, i.e. performs, instructions written in a programming or scripting language, without previously compiling them into a machine language program. An interpreter generally uses one of the following strategies for program execution:\n",
    "\n",
    "- Parse the source code and perform its behavior directly.\n",
    "- Translate source code into some efficient intermediate representation and immediately execute this.\n",
    "- Explicitly execute stored precompiled code made by a compiler which is part of the interpreter system.\n",
    "\n",
    "In interpretation, the original source code is also typically converted (compiled!) into some intermediate code which is then processed by an interpreter.\n",
    "\n",
    "## Programs - Types of Code ##\n",
    "\n",
    "### Source Code ###\n",
    "\n",
    "Source code is any collection of computer instructions written using a human-readable programming language, usually as ordinary text.  \n",
    "\n",
    "**This is the 'code' you write!**\n",
    "\n",
    "\n",
    "### Assembly Code ###\n",
    "\n",
    "A low-level programming language for a computer, or other programmable device, in which there is a very strong (generally one-to-one) correspondence between the language and the architecture's machine code instructions. Assembly language may also be called symbolic machine code. Assembly language uses a mnemonic to represent each low-level machine instruction or operation. Assembly language is converted into executable machine code by an **assembler**. \n",
    "\n",
    "Each assembly language is specific to a particular computer architecture. People can write assembly code, but you probably won't have to unless you're an expert low level optimization programmer.\n",
    "\n",
    "\n",
    "### Object Code ###\n",
    "\n",
    "Object code, or sometimes an object module, is what a computer compiler produces. In a general sense object code is a sequence of statements or instructions in a computer language.\n",
    "\n",
    "Object files can in turn be **linked to form an executable file or library file**. In order to be used, object code must either be placed in an executable file, a library file, or an object file.\n",
    "\n",
    "Object code is a portion of machine code that has not yet been linked into a complete program. It is the machine code for one particular library or module that will make up the completed product. It may also contain placeholders or offsets, not found in the machine code of a completed program, that the linker will use to connect everything together. Whereas machine code is binary code that can be executed directly by the CPU, object code has the jumps partially parameterized so that a linker can fill them in.\n",
    "\n",
    "An assembler is used to convert assembly code into machine code (object code). A linker links several object (and library) files to generate an executable. Assemblers can also assemble directly to machine code executable files without the object intermediary step.\n",
    "\n",
    "### Machine Code ###\n",
    "\n",
    "Machine code is a set of instructions executed directly by a computer's central processing unit (CPU). Each instruction performs a very specific task, such as a load, a jump, or an ALU operation on a unit of data in a CPU register or memory. \n",
    "\n",
    "Machine code may be regarded as the lowest-level representation of a compiled or assembled computer program or as a primitive and hardware-dependent programming language. \n",
    "\n",
    "These are the 'programs' you execute.\n",
    "\n",
    "### Byte Code ###\n",
    "\n",
    "Bytecode, also known as portable code or p-code, is a form of instruction set designed for efficient execution by a software interpreter. Bytecodes are compact numeric codes, constants, and references (normally numeric addresses) that encode the result of parsing and semantic analysis of things like type, scope, and nesting depths of program objects. They therefore allow much better performance than direct interpretation of source code.\n",
    "\n",
    "\n",
    "### Example Processes ###\n",
    "\n",
    "These sequences detail the most standard/common method of implementing each of the following programming languages, but not the exclusive ways. Will elaborate upon this in lesson 2. \n",
    "\n",
    "- C: SourceCode.c--[compiler]--> AssemblyCode.s --[Assembler]-->ObjectCode.o-->[Linker] --> Executable(.exe for windows)\n",
    "- Java: SourceCode.java --[Javac, the Java compiler]--> ByteCode.class --[JVM]-->Machine Code"
   ]
  },
  {
   "cell_type": "markdown",
   "metadata": {},
   "source": [
    "## Take a look at the source files ##\n",
    "\n",
    "There are 3 source files in this directory: Source.c, Source.java, and Source.py. They are all just text and can be viewed and edited with any text editor. The extensions are used to indicate their file types which is important, but don't actually change their content in a special way. Although some programs do actually use the extension to decide how to process the file. \n",
    "\n",
    "For general practice:\n",
    "- Do give your files the appropriate extensions to indicate their content/type when possible\n",
    "- Understand what is actually stored in the files\n",
    "- Choose the appropriate program for the appropriate context. You can set a default program to read/execute each file type via extension, but sometimes it's best to choose the program yourself. In these cases, it may be important to understand how the files are stored. \n"
   ]
  },
  {
   "cell_type": "markdown",
   "metadata": {},
   "source": [
    "## A Demonstration - Installing the WFDB software package ##\n",
    "\n",
    "https://physionet.org/physiotools/wfdb.shtml\n",
    "\n",
    "- What kind of files come with the downloaded tar file?\n",
    "- What files are used and created in between? How are they created?\n",
    "- Which files end up being used and stored on the machine, and where?\n",
    "\n",
    "## Another Demonstration - Installing a python package with pip ##\n",
    "\n",
    "- What files get downloaded?\n",
    "- Where are the files stored? sys.path (remember, this depends on your virtual environment!)\n",
    "\n",
    "## Software Distribution Forms ##\n",
    "\n",
    "- Distribute the source code. Distribute the original source code and require the user to compile. Usually comes with a makefile or other compile tools.\n",
    "- Distribute an installer. The installer itself is an executable. It runs scripts to compile content and possibly download content. \n",
    "- Distribute the executable directly. Rather uncommon. Hard to check platform differences, required libraries, etc. It is not easy to distribute a ready piece of software that is generalizable to different platforms and environments.\n",
    "\n",
    "Note that distributing a software package as compiled code doesn't mean the software isn't open source. Can host the source code publically somewhere and distribute the compiled version. "
   ]
  },
  {
   "cell_type": "markdown",
   "metadata": {
    "collapsed": true
   },
   "source": [
    "## Optional - Alternative Python Environment: Anaconda ##\n",
    "\n",
    "https://www.continuum.io/downloads\n",
    "\n",
    "Quite good for windows. The conda installer compiles many packages. "
   ]
  },
  {
   "cell_type": "markdown",
   "metadata": {},
   "source": [
    "# Bring-home lessons #\n",
    "\n",
    "- Understand your directory structure. Know your root directory, your user home, and that desktop is a subdirectory of your user home. And remember, no spaces!\n",
    "- Be comfortable with navigating, creating, and deleting your directories, through the terminal.\n",
    "- Be aware of your environment variables. Most important is the PATH variable. \n",
    "- Know how to use python virtual environments to manage package environments. \n",
    "- Know how to install/remove python packages with pip. Don't forget to activate the right virtual environmen first! \n",
    "- Use the jupyter-notebook. It's great.\n",
    "- Know how information is encoded in common files.\n",
    "- Understand what source code and executables are.\n"
   ]
  },
  {
   "cell_type": "code",
   "execution_count": null,
   "metadata": {
    "collapsed": true
   },
   "outputs": [],
   "source": []
  }
 ],
 "metadata": {
  "kernelspec": {
   "display_name": "Python 3",
   "language": "python",
   "name": "python3"
  },
  "language_info": {
   "codemirror_mode": {
    "name": "ipython",
    "version": 3
   },
   "file_extension": ".py",
   "mimetype": "text/x-python",
   "name": "python",
   "nbconvert_exporter": "python",
   "pygments_lexer": "ipython3",
   "version": "3.5.2"
  }
 },
 "nbformat": 4,
 "nbformat_minor": 2
}
