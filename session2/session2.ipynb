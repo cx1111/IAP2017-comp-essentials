{
 "cells": [
  {
   "cell_type": "markdown",
   "metadata": {},
   "source": [
    "# What is a programming language? #\n",
    "\n",
    "A programming language is a notation for writing programs, which are specifications of a computation or algorithm. \n"
   ]
  },
  {
   "cell_type": "markdown",
   "metadata": {},
   "source": [
    "### Examples ###\n",
    "\n",
    "Is **Matlab** a programming language? **Yes**. \"MATLAB is the high-level language and interactive environment used by millions of engineers and scientists worldwide\". The language can express computations and the software comes with the Matlab interpreter. Just because it is proprietary, has many syntax difference with other programming languages, and comes packaged with an integrated environment, doesn't mean it's not a programming language. \n",
    "\n",
    "\n",
    "Is **HTML** a programming language? **No**. HTML is a type of markup language. It encapsulates, or “marks up” data within HTML tags, which define the data and describe its purpose on the webpage. The web browser performs all the logic by parsing the HTML content and rendering it. You cannot perform any computation with HTML itself. \n",
    "\n"
   ]
  },
  {
   "cell_type": "markdown",
   "metadata": {},
   "source": [
    "## What is a Compiler? ##\n",
    "\n",
    "A computer program (or a set of programs) that transforms source code into another (often lower level) computer language such as object code, byte code, or machine code.\n",
    "\n",
    "In a compiled implementation of a language, a compiler (with linker) will translate the program directly into machine code which can be directly run by the machine. \n",
    "\n",
    "\n",
    "## What is an Interpreter? ##\n",
    "\n",
    "A computer program that directly executes, i.e. performs, instructions written in a programming or scripting language, without previously compiling them into a machine language program. An interpreter generally uses one of the following strategies for program execution:\n",
    "\n",
    "- Parse the source code and perform its behavior directly.\n",
    "- Translate source code into some efficient intermediate representation and immediately execute this.\n",
    "- Explicitly execute stored precompiled code made by a compiler which is part of the interpreter system.\n",
    "\n",
    "In interpretation, the original source code is also typically converted (compiled!) into some intermediate code which is then processed by an interpreter.\n",
    "\n",
    "## Compiled vs Interpreted Languages? ##\n",
    "\n",
    "http://www.programmerinterview.com/index.php/general-miscellaneous/whats-the-difference-between-a-compiled-and-an-interpreted-language/\n",
    "\n",
    "Interpretation and compilation are properties of the **implementation** of a language.\n",
    "\n",
    "It’s not accurate to say that a language is interpreted or compiled because interpretation and compilation are both properties of the implementation of that particular language, and not a property of the language itself. So, in theory, any language can be compiled or interpreted – it just depends on what the particular implementation that you are using does.\n",
    "\n",
    "The terms \"interpreted language\" or \"compiled language\" signify that the canonical implementation of that language is an interpreter or a compiler. A high level language is ideally an abstraction independent of particular implementations.\n",
    "\n",
    "### Advantages and disadvantages of compilation and interpretation (in general) ###\n",
    "\n",
    "- Compiled implementations of languages are usually faster because they translate directly to the native code of the specific machine.\n",
    "- Interpreted implementations of languages tend to be more portable.\n",
    "- No need to explicitly compile and execute when running interpreted implementations of languages. \n",
    "\n",
    " \n",
    "### Implementations can use a combination of both ###\n",
    "\n",
    "Python and Java for instance, have main implementations which first compile the source into byte code, which is then executed by the interpreter. \n",
    "\n",
    "Modern implementations of the Java Runtime Environment (JRE) actually perform just-in-time (JIT) compilation, compiling the byte code into machine code at run time. \n",
    "\n",
    "### Statically Typed vs Dynamically typed Languages ###\n",
    "\n",
    "A programming language is said to use static typing when type checking is performed during compile-time as opposed to run-time. eg. Regular implementation of C. \n",
    "\n",
    "A programming language is said to be dynamically typed, or just 'dynamic', when the majority of its type checking is performed at run-time as opposed to at compile-time. ie. CPython.\n"
   ]
  },
  {
   "cell_type": "code",
   "execution_count": 2,
   "metadata": {
    "collapsed": false
   },
   "outputs": [
    {
     "name": "stdout",
     "output_type": "stream",
     "text": [
      "10\n"
     ]
    }
   ],
   "source": [
    "# Dynamic Typing Example\n",
    "\n",
    "x = 100 # This runs!\n",
    "\n",
    "if x>110:\n",
    "    z = 5+'hi'\n",
    "else:\n",
    "    z = 5+5\n",
    "print(z)\n",
    "\n",
    "\n",
    "# Something similar would not compile with the C compiler. Check out wontcompile.c "
   ]
  },
  {
   "cell_type": "markdown",
   "metadata": {},
   "source": [
    "## Considerations when choosing a programming language ##\n",
    "\n",
    "- **Context of what you are trying to do/build!** \n",
    "- Speed of implementation\n",
    "- Ease/proficiency/efficiency of coding. ie. Statically typed vs dynamically typed. \n",
    "- Number of libraries and functionalities available (don't reinvent the wheel)\n",
    "- User community and standards. Open source community vs one proprietary company? Growing number of contributors vs dying popularity?\n",
    "\n"
   ]
  },
  {
   "cell_type": "markdown",
   "metadata": {},
   "source": [
    "## A few notes on speed ##\n",
    "\n",
    "\n",
    "Interpreted language implementations have overhead on loop cycles, likely making performance slow compared to a compiled language implementation. ie. upon each iteration of the loop, the interpreter has to parse the command again and decide which chunk of code to call.  \n",
    "\n",
    "1. Take advantage of built in optimized libraries available for certain operations and data structures. http://stackoverflow.com/questions/6058139/why-is-matlab-so-fast-in-matrix-multiplication\n",
    "2. Think about allocation of memory beforehand. The volume of memory, the data structure you are using, etc. Preallocate the correct amount of memory if known beforehand. "
   ]
  },
  {
   "cell_type": "code",
   "execution_count": 3,
   "metadata": {
    "collapsed": false
   },
   "outputs": [
    {
     "name": "stdout",
     "output_type": "stream",
     "text": [
      "time 1:  0.004002809524536133\n",
      "time 2:  0.6918525695800781\n"
     ]
    }
   ],
   "source": [
    "# Example: for loop vs built in array multiplication\n",
    "import numpy as np\n",
    "import time\n",
    "\n",
    "x = np.ones([1000000,])\n",
    "y = np.ones([1000000,])\n",
    "\n",
    "# array multiplcation\n",
    "start = time.time()\n",
    "x=x*2\n",
    "end = time.time()\n",
    "print(\"time 1: \", end - start)\n",
    "\n",
    "# elementwise array multiplication\n",
    "start = time.time()\n",
    "for i in range(0,1000000):\n",
    "    y[i] = y[i]*2\n",
    "end = time.time()\n",
    "print(\"time 2: \", end - start)\n",
    "\n",
    "\n",
    "# Principle is, certain operations such as matlab's matrix multiplication call optimized libraries \n",
    "# specifically written to take advantage of processor structure. "
   ]
  },
  {
   "cell_type": "code",
   "execution_count": 1,
   "metadata": {
    "collapsed": true
   },
   "outputs": [],
   "source": [
    "# For an interesting example regarding speed and memory management, check out twoways.c "
   ]
  },
  {
   "cell_type": "markdown",
   "metadata": {},
   "source": [
    "## Think about the ergonomics of 'speed' ##\n",
    "\n",
    "- Exactly how much faster is the fastest solution? \n",
    "- How much longer will it take you to code the same functionality?\n",
    "- Don't spend too much time 'optimizing' parts of the code that take up a negligible amount of the total compute time. \n",
    "- If you choose a language because it's implementation is faster, note that you may be able to write your code in a higher level langauge (Python) and call a lower level language (C) for computationally intensive bottlenecks of the operation. \n",
    "- In most cases, more time is saved overall when using the higher level programming languages. "
   ]
  },
  {
   "cell_type": "markdown",
   "metadata": {},
   "source": [
    "### Example - Coding the same thing in Python and C ###\n",
    "\n",
    "### 1. Python ###\n",
    "~~~\n",
    "names = ['Neo','Agent','Morpheus','Agent', 'Trinity']\n",
    "humans = [n for n in names if n!='Agent']\n",
    "print(humans)\n",
    "~~~\n",
    "And run it. \n",
    "    \n",
    "### 2. C ###\n",
    "\n",
    "~~~\n",
    "#include <stdio.h>\n",
    "#include <string.h>\n",
    "\n",
    "void main(){\n",
    "    char *names[5] = {\"Neo\",\"Agent\",\"Morpheus\",\"Agent\",\"Trinity\"}\n",
    "    char *humans[5]\n",
    "    int nhumans=0;\n",
    "\n",
    "    for (int i=0; i<5; i++){\n",
    "        if (!strcmp(names[i], \"Agent\")){\n",
    "            strcpy(humans[nhumans], names[i]);\n",
    "            nhumans++;\n",
    "        }\n",
    "    }\n",
    "    for (int i=0; i<nhumans; i++){\n",
    "        printf(\"%s\\n\", names[i]);\n",
    "    }\n",
    "}\n",
    "~~~\n",
    "\n",
    "Compile it\n",
    "\n",
    "`gcc sourcefile.c -o execute`\n",
    "\n",
    "Run it\n",
    "\n",
    "`./execute`\n",
    "\n",
    "**This is an example of a rather trivial program to demonstrate that lower level languages are more laborious to write. However for larger applications, the speed tradeoff may well be worth it.**\n"
   ]
  },
  {
   "cell_type": "markdown",
   "metadata": {},
   "source": [
    "# A bit about CPUs and GPUs #\n",
    "\n",
    "## Central Processing Unit (CPU) ##\n",
    "\n",
    "The electronic circuitry within a computer that carries out the instructions of a computer program by performing the basic arithmetic, logical, control and input/output (I/O) operations specified by the instructions. Built onto a chip. Essentially a giant calculator/processor. CPUs usually contain multiple cores. 2,4,8...\n",
    "\n",
    "![image](https://s.aolcdn.com/hss/storage/adam/7c96335bbb8f34bf5bcd58cb96be57d2/intel-new-4th-gen-desktop-8-core-2014-03-20-01.jpg)\n",
    "## Graphics Processing Unit (GPU) ##\n",
    "\n",
    "A GPU is a computational circuit/processor. Designed to rapidly manipulate and alter memory to accelerate the creation of images in a frame buffer intended for output to a display device. Processor structured in a chip. \n",
    "\n",
    "A video card or graphics card is a discrete hardware module in your PC that consists of a daughterboard with one or more GPUs or other processing chips, their memory chips, and various other components are needed to allow the card to function.\n",
    " \n",
    "A graphics processor can be either embedded into the CPU processor die or added to the motherboard with extension slots. Those that are integrated into your processors are called integrated graphics unit. Integrated units share the CPU RAM with the processors. Those that are attached through PCIe expansion slots are called dedicated units. Dedicated Graphics cards have a separate RAM and data is transferred through a PCI (or another type of) bus.\n",
    "\n",
    "So it's not correct to ask whether you have a '*dedicated graphics card*' because if it were embedded into the CPU, the GPU wouldn't have its own 'card'...\n",
    "\n",
    "The advantage of integrated units over dedicated unit is that data access is easier as it shares memory with the processor, whereas in dedicated units data should be transferred from system RAM to the RAM on the graphics card.\n",
    "\n",
    "\n",
    "## GPU vs CPU Programming ## \n",
    "\n",
    "http://www.nvidia.com/object/what-is-gpu-computing.html\n",
    "\n",
    "A CPU consists of a few cores optimized for sequential serial processing while a GPU has a massively parallel architecture consisting of thousands of smaller, more efficient cores designed for handling multiple tasks simultaneously.\n",
    "\n",
    "![image](http://www.nvidia.com/docs/IO/143716/cpu-and-gpu.jpg)\n",
    "\n",
    "![image](http://www.nvidia.com/docs/IO/143716/how-gpu-acceleration-works.png)\n",
    "\n",
    "If you can parallelize your computations, you can use multiple CPU cores (such as via parallel for loops), or implement GPU computing. Writing code for GPUs is more different and requires more functionalities to be explicitly coded such as memory management. Before NVIDIA's CUDA framework, it was very difficult program with GPUs. It is constantly being developed to make the experience easier, adding new functionalities such as unified memory management. \n",
    "\n",
    "Note, you need a dedicated graphics unit supported by your software API to perform GPU computing. You can't use the integrated one because it's busy rendering your display!"
   ]
  },
  {
   "cell_type": "markdown",
   "metadata": {},
   "source": [
    "# Overview of some important programming langauges #\n"
   ]
  },
  {
   "cell_type": "markdown",
   "metadata": {},
   "source": [
    "## C ##\n",
    "\n",
    "A general purpose long established low level language used to write software for low level applications and embedded sytems. For instance, the Linux, Windows, and OSX kernels were all written in C. \n",
    "\n",
    "### Pros ###\n",
    "\n",
    "- Very fast. Usually compiled c applications are used as benchmarks. \n",
    "- Portablility for essentially every machine architecture\n",
    "- Allows very specific memory management\n",
    "- Small compiled code size\n",
    "- CUDA GPU toolkit support for C\n",
    "\n",
    "### Cons ###\n",
    "\n",
    "- No objects\n",
    "- Low level and laborious to write. \n",
    "\n",
    "### Example Project ###\n",
    "\n",
    "https://www.physionet.org/physiotools/wfdb.shtml\n",
    "\n",
    "## C++ ##\n",
    "\n",
    "Language based on C, with many more useful higher level features. Very popular industrial and scientific language. Large number of desktop applications are built using C++, such as Firefox.  \n",
    "\n",
    "### Pros ###\n",
    "\n",
    "- Nearly negligible speed loss in most applications compared to C.\n",
    "- Has objects. C does not. \n",
    "- Has many higher level functions and libraries to call, yet you are not forced to use them if you don't want to sacrifice speed/size.\n",
    "- CUDA GPU toolkit support for C++\n",
    "\n",
    "### Cons ###\n",
    "\n",
    "- Fewer standards than C, making it slightly less portable. \n",
    "- More overhead and larger file size compared to C if certain features such as exception handling are called.\n",
    "\n",
    "http://stackoverflow.com/questions/497786/why-would-anybody-use-c-over-c\n",
    "\n"
   ]
  },
  {
   "cell_type": "markdown",
   "metadata": {},
   "source": [
    "## Java ##\n",
    "\n",
    "A general purpose object oriented language. Java is compiled to bytecode which is then fed into the JVM interpreter. This is more efficient than just having the virtual machine interpret the original source code at run time. Java is hardware/machine independent, which means that any machine can run Java bytecode provided it has a JVM specifically built for that machine. Notably, Java is the language used for developing android applications.\n",
    "\n",
    "### Pros ###\n",
    "\n",
    "- Very fast, comparable to C++\n",
    "- Supports objects\n",
    "- Has a very large and standard class library.\n",
    "- Has many graphics processing libraries\n",
    "- The language for Android development\n",
    "- Java compiler and Java virtual machine provided by Oracle on most platforms for portability. \n",
    "\n",
    "\n",
    "### Cons ###\n",
    "\n",
    "- Difficult to learn at first\n",
    "- Larger memory footprint compared to C/C++\n",
    "- Requires Java interpreter for users to run your software\n",
    "\n",
    "## Example Project ##\n",
    "\n",
    "https://github.com/CodeNMore/New-Beginner-Java-Game-Programming-Src\n"
   ]
  },
  {
   "cell_type": "markdown",
   "metadata": {},
   "source": [
    "## Python ##\n",
    "\n",
    "A very powerful, high level versatile language able to perform many functions. Incredibly popular and becoming more so.\n",
    "\n",
    "You can see .pyc files which contain byte code, which is what the Python interpreter compiles the source to. This code is then executed by Python's virtual machine.\n",
    "\n",
    "### Pros ###\n",
    "\n",
    "- Easy to learn, yet has many deep functionalities for advanced users.\n",
    "- Supports objects\n",
    "- Becoming extremely popular. \n",
    "- Very large community of open source package contributors. Even google's neural network library tensorflow https://www.tensorflow.org/\n",
    "- Excellent visualization tools\n",
    "- Many data science libraries\n",
    "- Great libraries for parallel computing and for running on multiple clusters\n",
    "- CUDA GPU support https://developer.nvidia.com/how-to-cuda-python  \n",
    "- Popular web development frameworks in Python - Django, Flask, Pyramid. \n",
    "\n",
    "\n",
    "### Cons ###\n",
    "\n",
    "- Slower compared to lower level programming languages (but see parallel computing and GPU frameworks)\n",
    "- Dynamically typed - some programmers demand explicit memory management. There are addons to allow statically typed varables. \n",
    "\n",
    "## Matlab ##\n",
    "\n",
    "Numerical computing langauge/environment developed by MathWorks.\n",
    "\n",
    "### Pros ###\n",
    "\n",
    "- Easy to learn. \n",
    "- Has many signal processing and engineering libraries. \n",
    "\n",
    "### Cons ###\n",
    "\n",
    "- Slow compared to lower level programming languages (although its matrix multiplication library is very fast).\n",
    "- Proprietary software. Costs money. A huge pain to install on large numbers of machine without multiple licenses.\n",
    "- Syntax is quite different from most other programming languages."
   ]
  },
  {
   "cell_type": "markdown",
   "metadata": {},
   "source": [
    "## Relational Databases and SQL ##\n",
    "\n",
    "A relational database is a digital database whose organization is based on the relational model of data. The relational model of data organizes data into one or more tables, or 'relations', with a unique key identifying each row. Rows in a table can be linked to rows in other tables by adding a column for the unique key of the linked row (such columns are known as foreign keys).\n",
    "\n",
    "The main advantages of using relational databases are consistent organization, and the ability to manipulate and extract data using Structured Query Language (SQL). Postgres is an open source relational database management system. Others include MySQL and Oracle SQL. \n",
    "\n",
    "\n",
    "## Flat Files ##\n",
    "\n",
    "An ordinary file with no structure for indexing and usually no structural relationships between the records. A flat file can be a plain text file or a binary file.\n",
    "\n",
    "## Relational Database vs Flat Files ##\n",
    "\n",
    "Pros:\n",
    "- Ability to make queries using SQL!!!\n",
    "- Indexing data is very fast in relational databases. \n",
    "- Databases can watch for data integrity\n",
    "- It is easy to flexibly add content to relational databases. For flat files, data usually has to be appended. \n",
    "\n",
    "Cons:\n",
    "- Relational databases take up more disk space compared to pure binary files. \n",
    "- For simple data, flat files are easier to manage.\n",
    "- It is easier to version control flat files. \n",
    "- Easier to share and distribute flat files, although \n",
    "\n",
    "### Relational databases are extremely imporant in this day and age! ### \n",
    "\n",
    "Many organizations, such as hospitals, banks, government organizations, and commercial entities in general, store their data in relational databases. This MUST be considered when developing web applications, which very frequently must read and write from these databases. \n",
    "\n",
    "## Example Projects ##\n",
    "\n",
    "https://github.com/MIT-LCP/mimic-code/  - All contributed code for the MIMIC-III clinical database. Data extraction code is written in SQl.\n",
    "\n",
    "https://mimic.physionet.org/ - The website for MIMIC if you want to find out more."
   ]
  },
  {
   "cell_type": "markdown",
   "metadata": {},
   "source": [
    "### Take a look at the Makefile for building MIMIC-III, and see some of the  tables. ###\n",
    "\n"
   ]
  },
  {
   "cell_type": "markdown",
   "metadata": {},
   "source": [
    "## Javascript ##\n",
    "\n",
    "The sole standard scripting language able accepted by all browsers for client side scripting. This makes it the language of choice among a large number of web developers. \n",
    "\n",
    "Web browsers display content specified by HTML and CSS. The server side can call whatever scripts it needs in whatever language it wants, but only Javascript can be executed by the client's browser. \n",
    "\n",
    "## Web frameworks vs Content Management Systems ##\n",
    "\n",
    "A web framework is a lower level software package for the development of web applications. That could be any type of system managing and processing data while exposing it's data and services to users via web browsers. Examples: Django, Flask, Ruby on Rails. \n",
    "\n",
    "A CMS is one type of such applications: a system to manage content shown in websites. Usually/historically, this mainly means managing (pieces of) text of \"pages\" shown in a web site, and useres that have different levels of access to manage this content. Examples: Joomla, Squarespace, Wordpress.\n",
    "\n",
    "With a CMS, you can manage web content, usually interactively. With a Web framework, you build web applications by coding software. Your choice of which system to use depends on the complexity of the website you want to implement.\n",
    "\n",
    "\n",
    "http://stackoverflow.com/questions/1636259/difference-between-web-application-framework-and-a-content-management-system\n"
   ]
  },
  {
   "cell_type": "markdown",
   "metadata": {
    "collapsed": true
   },
   "source": [
    "## IDEs and Text Editors ##\n",
    "\n",
    "Programming involves\n",
    "1. Writing source code - Source files are just text. You can edit them with any text editor, including but not necessarily, ones integrated with IDEs. \n",
    "2. Running the code via an interpreter and/or compiler - You can either directly call your compilers/interpreters from the terminal (or a makefile), or access them through an IDE.  \n",
    "\n",
    "Be aware of the following:\n",
    "\n",
    "- Source code is not tied to specific IDEs/programs. I can even write Matlab code in notepad if I wanted. \n",
    "- Choose whichever editor/IDE makes you more productive for what you are trying to do. \n",
    "- IDEs can be burdensome, take long to load, cover up details of implementation and understanding. But once you understand the workings of your implementation, they offer many advantages:\n",
    "  - Automatic import/variable completion. Using Eclipse for Java for instance, saves a substantial amount of typing.\n",
    "  - Clicking compile and run saves time compared to writing individual commands from the terminal or writing your own compile tools file. Just make sure you understand what is going on. \n",
    "  - Workspace management and variable visualization tools. \n",
    "- The IDE is not the compiler/interpreter. It is a software framework that calls a compiler/interpreter that it comes with, or one that is previously installed on your computer. For instance, Jupyter-Notebook will ask you to choose a python interpreter. \n",
    "\n",
    "Recommended text editors for programming:\n",
    "- Sublime https://www.sublimetext.com/download\n",
    "- Notepad++ https://notepad-plus-plus.org/download/v7.3.1.html"
   ]
  },
  {
   "cell_type": "markdown",
   "metadata": {
    "collapsed": true
   },
   "source": [
    "## Popularity and Community/Industry is Worth Considering ##\n",
    "\n",
    "\n",
    "http://www.tiobe.com/tiobe-index//\n",
    "\n",
    "*Take these popularity charts with a grain of salt. Some of these 'jobs' in the chart below might be lame and not very technical such as pulling stuff from databases\n",
    "\n",
    "![title](http://www.codingdojo.com/blog/wp-content/uploads/Programming-Languages-for-2016_graph.jpg)"
   ]
  },
  {
   "cell_type": "markdown",
   "metadata": {
    "collapsed": true
   },
   "source": [
    "# What lesson to get from this? #\n",
    "\n",
    "## Choose your language depending on what you want to develop! ## \n",
    "\n",
    "Summary of popular programming languages/technologies. by application. Note, you are not restricted to these. \n",
    "\n",
    "- Web development - Javascript, HTML and CSS as core components. The backend web frameworks are commonly implemented in Java, Python, Javascript (and Ruby, PHP, and Perl). \n",
    "- Mobile app development - Java for Android and Swift for iOS. \n",
    "- Desktop applications for distribution - C++, C#, maybe C.\n",
    "- Internal organization applications for processing and managing content - Java, C++, C#, Python. \n",
    "- Data Science and machine learning - Python, R. If working with big data, also consider CUDA GPU framework with C/C++. \n",
    "\n",
    "Languages do come and go however. Don't be afraid to learn new technologies, it's part of being a computer scientist!"
   ]
  },
  {
   "cell_type": "code",
   "execution_count": null,
   "metadata": {
    "collapsed": true
   },
   "outputs": [],
   "source": []
  }
 ],
 "metadata": {
  "kernelspec": {
   "display_name": "Python 3",
   "language": "python",
   "name": "python3"
  },
  "language_info": {
   "codemirror_mode": {
    "name": "ipython",
    "version": 3
   },
   "file_extension": ".py",
   "mimetype": "text/x-python",
   "name": "python",
   "nbconvert_exporter": "python",
   "pygments_lexer": "ipython3",
   "version": "3.5.2"
  }
 },
 "nbformat": 4,
 "nbformat_minor": 2
}
