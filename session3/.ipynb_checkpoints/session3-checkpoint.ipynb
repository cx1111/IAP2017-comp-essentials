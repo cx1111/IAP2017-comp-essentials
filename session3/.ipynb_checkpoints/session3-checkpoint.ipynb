{
 "cells": [
  {
   "cell_type": "markdown",
   "metadata": {},
   "source": [
    "# Version control with Git #\n"
   ]
  },
  {
   "cell_type": "markdown",
   "metadata": {},
   "source": [
    "References:\n",
    "- https://git-scm.com/doc\n",
    "- http://swcarpentry.github.io/git-novice/\n",
    "- http://git-school.github.io/visualizing-git/\n",
    "\n",
    "Disclaimer: I deliberately leave out a lot of details. If you want to know anything or see something amiss, please ask me or read the official git documentation."
   ]
  },
  {
   "cell_type": "markdown",
   "metadata": {},
   "source": [
    "![image](http://swcarpentry.github.io/git-novice/fig/phd101212s.png)"
   ]
  },
  {
   "cell_type": "markdown",
   "metadata": {},
   "source": [
    "## Introduction to Git ##\n",
    "\n",
    "Git is a widely used version control software that lets us keep track of changes in our files. \n",
    "\n",
    "## Why Version Control with Git? ##\n",
    "\n",
    "- Able to retrieve past versions of a file.\n",
    "  - Avoid having to save multiple copies of the same file under different names at different points of its history.\n",
    "  - If you keep one copy without version control, you will (essentially) never be able to retrieve past versions of files.\n",
    "- Able to view changes and developments in your work. \n",
    "- Backs up your files in case you accidentally delete them. \n",
    "- You can host git repositories on remote servers such as Github and Bitbucket in order to work collaboratively. This simultaneously serves as a cloud backup for your files. \n",
    "\n",
    "![image](https://git-scm.com/book/en/v2/images/local.png)\n",
    "\n",
    "## How do you track files in Git? ##\n",
    "\n",
    "Git stores data as a series of snapshots. Work on the files in your project like normal. When you decide that you want to take a snapshot of the state of your project:\n",
    "\n",
    "1. Choose the changed content you want to keep track of and add them to the staging area. \n",
    "2. Commit all the content in the staging area. \n",
    "\n",
    "\n",
    "Analogy: You are an artist who works with paintings (files). You can start new paintings, (create new files), work on paintings (edit files), and throw away paintings (delete files). You have a cameraman who takes pictures (commits) when you decide. \n",
    "\n",
    "1. You make a few new paintings and work on another painting. You choose to put them on a stage where the cameraman is ready to take a picture of them.\n",
    "2. You tell the cameraman to take a picture of all the paintings you put on the stage. Remember, if you work on some paintings or make some new paintings but you didn't put any of them onto the stage, the cameraman doesn't take a picture of anything.\n",
    "\n",
    "## How are things tracked in Git? ##\n",
    "\n",
    "Git stores data as a series of snapshots. When you make a commit, Git stores a **commit object** with a unique identifier that contains:\n",
    "    - A snapshot of the content you staged. \n",
    "    - A pointer to the commit object that was the direct parent of the commit*.\n",
    "    - Metadata: author and commit message.\n",
    "\n",
    "*or one pointer to each parent if the commit came from a merge\n",
    "\n",
    "![image](http://www.vogella.com/tutorials/Git/img/xcommitreference10.png.pagespeed.ic._47Nw4-jKb.png)\n",
    "![image](https://git-scm.com/figures/18333fig0301-tn.png)\n"
   ]
  },
  {
   "cell_type": "markdown",
   "metadata": {},
   "source": [
    "## Terminal Commands ##\n",
    "\n",
    "- When you specify directories, they can be full paths or a directory relative to your current directory. Full path starts with your system's root directory, which is **`/`** for OSX/Linux, and **`C:\\`** for Windows. \n",
    "- Single `.` means current directory, and double `..` means up one directory. For example, **`cd ..`** means change to upper directory. \n",
    "\n",
    "### OSX + Linux ###\n",
    "\n",
    "- Change directory to 'DIR': **`cd DIR`**\n",
    "    - Remember, your user home directory is **`/home/USERNAME/`**\n",
    "- Print out your current directory: **`pwd`**\n",
    "- Move file 'FILE' to directory 'DIR': **`mv FILE DIR`**\n",
    "- Remove file 'FILE': **`rm FILE`**\n",
    "- Remove directory 'DIR' and its contents: **`rm -rf DIR`**\n",
    "- View contents of current directory: **`ls`**\n",
    "    - Including hidden files: **`ls -a`**\n",
    "    - View contents of a target directory: **`ls DIR`**\n",
    "- Open the file explorer in the directory 'DIR'\n",
    "    - OSX: **`open DIR`**\n",
    "    - Linux: **`nautilus DIR`**\n",
    "    \n",
    "### Windows ###\n",
    "\n",
    "- Change directory to 'DIR': **`cd DIR`**\n",
    "    - Remember, your user home directory is **`C:\\Users\\USERNAME\\**`\n",
    "- Print out your current directory: **`echo %cd%`**\n",
    "- Move file 'FILE' to directory 'DIR': **`move FILE DIR`**\n",
    "- Remove file 'FILE': **`del FILE`**\n",
    "- Remove directory 'DIR' and its contents: **`rd /s /q`**\n",
    "- View contents of current directory (including hidden files): **`dir`**\n",
    "    - View contents of a target directory: **`dir DIR`**\n",
    "- Open the file explorer in the directory 'DIR': **`explorer DIR`**"
   ]
  },
  {
   "cell_type": "markdown",
   "metadata": {},
   "source": [
    "## Setup ##\n",
    "\n",
    "### Install Git ### \n",
    "\n",
    "https://git-scm.com/downloads for windows and mac. Linux comes with git. Run the installer.\n",
    "\n",
    "### Ensure the git executable directory is in your PATH environment variable ###\n",
    "\n",
    "`where git` for windows to check. Default: `C:\\Program Files\\Git\\bin`\n",
    "\n",
    "`which git` for osx and linux to check. Default: `/usr/bin/git` or `/usr/local/git/bin`\n",
    "\n",
    "See 'environment variables' near the top of this document https://github.com/cx1111/IAP2017-comp-essentials/blob/master/session1/session1.ipynb if you need help. \n",
    "\n",
    "### Configure user in git ###\n",
    "\n",
    "`git config --global user.name \"First Last\"`\n",
    "\n",
    "`git config --global user.email \"myemail@emaildomain.com\"`\n",
    "\n"
   ]
  },
  {
   "cell_type": "markdown",
   "metadata": {},
   "source": [
    "# Git observation commands #\n",
    "\n",
    "- Help documentation: **`git --help`**\n",
    "- Help documentation for a specific command: **`git COMMAND --help`** \n",
    "- The current status of the git repo: **`git status`**\n",
    "- The history of the git rep: **`git log`**\n",
    "- See the files being tracked (in the master branch): **`git ls-tree -r master --name-only`**\n",
    "- Checking differences between snapshots\n",
    "  - Specify snapshots with HEAD: **`git diff HEAD~2 HEAD`**\n",
    "  - Specify snapshots with the commit hashes: **`git diff COMMITHASHold COMMITHASHnew `**\n",
    "  - For just one file: **`git diff COMMITHASHold COMMITHASHnew file`**\n",
    "- List branches\n",
    "  - Local: **`git branch`**\n",
    "  - Remote: **`git branch -r`**\n",
    "  - All: **`git branch -a`**"
   ]
  },
  {
   "cell_type": "markdown",
   "metadata": {},
   "source": [
    "# Section 1 - Single branch no remotes #"
   ]
  },
  {
   "cell_type": "markdown",
   "metadata": {},
   "source": [
    "## 1.0. Initialize a Git repository ##\n",
    "\n",
    "1. Choose a directory to start a new project in. For instance: \n",
    "  - **`/home/USER/Downloads/Gitintro/`** (OSX/Linux) \n",
    "  - **`C:\\Users\\USER\\Downloads\\Gitintro\\`** (Windows)\n",
    "2. Change into that directory.\n",
    "3. Initialize the git repository: `git init`"
   ]
  },
  {
   "cell_type": "markdown",
   "metadata": {},
   "source": [
    "## 1.1. ##\n",
    "\n",
    "- Create 2 text files with the following content:\n",
    "  1. file1.txt - I am Neo\n",
    "  2. file2.txt - I am Morpheus\n",
    "- Add file1.txt to the staging area: **git add file1.txt**\n",
    "- Take a look at the status of your git workspace: **git status**\n",
    "- Commit your staged changes (with a message explaining the commit): **git commit -m \"writing about Neo\"**\n",
    "- Take a look at the status of your git workspace: **git status**\n"
   ]
  },
  {
   "cell_type": "markdown",
   "metadata": {},
   "source": [
    "## 1.2. ##\n",
    "\n",
    "- Create a new text file: file3.txt - I am Trinity\n",
    "- Edit file1.txt: - I am Neo. I am the chosen one.\n",
    "- Add file1.txt and file3.txt to the staging area: **git add file1.txt file3.txt**\n",
    "- Commit your staged changes: **git commit -m \"Added about Neo, started with Trinity\"**\n",
    "- Take a look at the repo status: **git status**\n",
    "- See the difference between the files of this commit and those of the last commit: **git diff HEAD~1 HEAD**"
   ]
  },
  {
   "cell_type": "markdown",
   "metadata": {},
   "source": [
    "## 1.3. ##\n",
    "\n",
    "- Delete file3.txt\n",
    "- Take a look at the repo status: **git status**\n",
    "- Stage the fact that we deleted file3.txt: **git add file3.txt**\n",
    "- Decide that we should start keeping track of file2.txt. Stage it: **git add file2.txt**\n",
    "- Take a look at the repo status: **git status**\n",
    "- Commit your staged changes: **git commit -m \"Removed trinity, started with Morpheus\"**"
   ]
  },
  {
   "cell_type": "markdown",
   "metadata": {},
   "source": [
    "## 1.4. ##\n",
    "\n",
    "- Check out your history: **git log**\n",
    "- Realize that we miss Trinity. Get her back: **git checkout HEAD~1 file3.txt**\n",
    "- Stage this change: **git commit -m \"Retrieved Trinity\"**\n",
    "- List all the files that are currently being tracked: **`git ls-tree -r master --name-only`**"
   ]
  },
  {
   "cell_type": "markdown",
   "metadata": {},
   "source": [
    "# Section 2 - 2 branches no remotes #"
   ]
  },
  {
   "cell_type": "markdown",
   "metadata": {},
   "source": [
    "# 2.0 #\n",
    "\n",
    "- List all the branches of this repo and see what branch we are on: **git branch**\n",
    "- Create a new branch because we want to start writing about agents. Also change to that branch. Choose ONE of the following:\n",
    "  - **git checkout -b agents**\n",
    "  - **git branch agents** followed by **git checkout agents**\n",
    "- Check out the history of this branch: **git log**\n"
   ]
  },
  {
   "cell_type": "markdown",
   "metadata": {},
   "source": [
    "# 2.1 #\n",
    "\n",
    "- Create 3 agent files \n",
    "  - file101.txt - I am Smith\n",
    "  - file102.txt - I am Brown\n",
    "  - file103.txt - I am Jones \n",
    "- Append file1.txt - I got punched by Smith. \n",
    "- Stage all your changes. You should know this!\n",
    "- Commit your stages changes: **git commit -m \"added 3 agents and punched Neo\"**"
   ]
  },
  {
   "cell_type": "markdown",
   "metadata": {},
   "source": [
    "## 2.2 ##\n",
    "\n",
    "- Change back to the master branch: **git checkout master**\n",
    "- Print the list of files in your directory, or open your file explorer. Which files do you see/not see? How's file1.txt doing?\n",
    "- Change back to the agents branch and take a look at the files. **git checkout agents**\n",
    "- Change back to the master branch.\n",
    "- We decide that the agents branch has good content. Merge the changes of the agents branch on top of the master branch (no need to stage and commit): **git merge agents**\n",
    "\n",
    "What would this look like in the git workflow? What does it mean when it says fastforward? "
   ]
  },
  {
   "cell_type": "markdown",
   "metadata": {},
   "source": [
    "## 2.3 ##\n",
    "\n",
    "- Append file1.txt - I see dead people\n",
    "- Stage it\n",
    "- Oops wrong movie! Unstage it: **git reset HEAD file1.txt**\n",
    "- Take a look at the file. This didn't actually get rid of the changes. \n",
    "- Discard changes: **git checkout file1.txt**\n",
    "- Take a look at the file. \n",
    "- Check out the state of the repo: **git status**\n",
    "- Append file1.txt - I see the Matrix\n",
    "- Stage and commit all edits in one step: git commit -am \"Neo has become aware\""
   ]
  },
  {
   "cell_type": "markdown",
   "metadata": {},
   "source": [
    "## 2.4 ##\n",
    "\n",
    "- Change to agents branch \n",
    "- Append file101.txt - I am corrupted\n",
    "- Create new file filex.txt - I snuck in\n",
    "- **git status**\n",
    "- Just run this: **git commit -am \"Smith is corrupted\"**\n",
    "- **git status**\n",
    "- Hey what happened? Why is filex.txt still untracked? Because git commit -am doesn't affect untracked files! You can use -am but don't get lazy and forget to stage new untracked files, and don't forget the difference between the staging area and a commit. \n"
   ]
  },
  {
   "cell_type": "markdown",
   "metadata": {},
   "source": [
    "## 2.5 ##\n",
    "\n",
    "- Change back to master branch: **git checkout master**\n",
    "- Merge the agents branch on top: **git merge agents -m \"merge with agents branch\"**\n",
    "- **git log**\n",
    "- Decide we're not ready for this yet. Undo the merge: **git reset --hard HEAD~1**\n",
    "- **git log**\n",
    "- Decide that we're ready after all: **git merge agents**\n",
    "- We forgot to state a message for the previous command so git opened up our text editor and told us to add something. It gives a default which we can use if we want.\n",
    "- **git log**\n"
   ]
  },
  {
   "cell_type": "markdown",
   "metadata": {},
   "source": [
    "## 2.6 ##\n",
    "\n",
    "- Change to agents branch\n",
    "- ** git log**\n",
    "- Realize that this branch won't be used anymore since the master branch has all its changes. \n",
    "- Change to master branch\n",
    "- Delete the agents branch: **git branch -d agents**\n",
    "- **git branch**\n",
    "- Delete filex.txt\n",
    "- Rename file101.txt to file1001.txt\n",
    "- Check out what git think happened: **git status**\n",
    "- Rename file1001.txt back to file101.txt\n",
    "- Rename file101.txt to file1001.txt with: **git mv file101.txt file1001.txt**\n",
    "- Stage and commit.\n",
    "- **git status**"
   ]
  },
  {
   "cell_type": "markdown",
   "metadata": {},
   "source": [
    "## Remote Repositories ##\n",
    "\n",
    "![image](https://git-scm.com/book/en/v2/images/distributed.png)\n",
    "\n",
    "Note - 'Server' is Github in this workshop."
   ]
  },
  {
   "cell_type": "markdown",
   "metadata": {},
   "source": [
    "# Section 3 - 1 branch 1 remote #"
   ]
  },
  {
   "cell_type": "markdown",
   "metadata": {
    "collapsed": true
   },
   "source": [
    "## 3.0 ##\n",
    "\n",
    "- Create a repository on github https://github.com/ \n",
    "- Name it 'Matrix'. No initializing with README for now. We will add that ourselves later. Public (unless you want to pay).\n",
    "- Near the top, under \"*Quick setup — if you’ve done this kind of thing before*\" select **HTTPS** instead of **SSH**\n",
    "- Back to the terminal. Add the remote repository for your git repo: **git remote add origin https://github.com/USERNAME/matrix.git** \n",
    "- Push git push -u origin master\n",
    "- List the remote repositories of your git repo: \n",
    "- Take a look around the github website layout.\n",
    "\n",
    "I'll demonstrate creating a repository with SSH. You don't need to do this. "
   ]
  },
  {
   "cell_type": "markdown",
   "metadata": {},
   "source": [
    "## 3.1 ##\n",
    "\n",
    "- Change directory somewhere else out of your git repo. Downloads directory works. \n",
    "- Clone a git repository. This one if you can't think of any other one: https://github.com/cx1111/IAP2017-comp-essentials \n",
    "- What is in the base directory? The .git subdirectory with all the tracked metadata! \n",
    "- Now you can see my work history. \n",
    "- Feel free to delete this repo. \n",
    "- Change back to your git tutorial repo.\n",
    "- Create a new file README.md - This is what happened in the Matrix 1. I hope this didn't spoil anything.\n",
    "- Stage that file\n",
    "- Commit that file\n",
    "- Push your changes to your remote repository: **git push origin master**\n",
    "- Take a look at your github page. "
   ]
  },
  {
   "cell_type": "markdown",
   "metadata": {
    "collapsed": true
   },
   "source": [
    "# 3.2 #\n",
    "\n",
    "- Append file2.txt - Morpheus is fighting Agents\n",
    "- Stage, commit, and push.\n",
    "- Take a look at your github page. See history and such."
   ]
  },
  {
   "cell_type": "markdown",
   "metadata": {},
   "source": [
    "# Section 4 - Collaboration with 1 remote #"
   ]
  },
  {
   "cell_type": "markdown",
   "metadata": {},
   "source": [
    "## 4.0 ##\n",
    "\n",
    "- Pair up with a buddy. One of you is buddy A, the other is buddy B. Decide. \n",
    "- We will use buddy A's github repo. Buddy B please clone buddy A's repo somewhere else. If you want, you could delete your original local repo first because the names might get confusing. You'll be sharing now.\n",
    "- Buddy A, add buddy B as a collaborator on github. Settings --> collaborators."
   ]
  },
  {
   "cell_type": "markdown",
   "metadata": {},
   "source": [
    "## 4.1 ##\n",
    "\n",
    "- B, create file4.txt - I am the oracle\n",
    "- B, append file3.txt - I believe in Neo\n",
    "- B, stage commit and push. \n",
    "- A, pull changes from your repote repository: **git pull origin master** or just **git pull**\n",
    "- Both of you: **git status**"
   ]
  },
  {
   "cell_type": "markdown",
   "metadata": {},
   "source": [
    "## 4.2 ##\n",
    "\n",
    "- A, append file102.txt - I am still alive\n",
    "- B, append file102.txt - I am dead\n",
    "- Both of you stage and commit (DON'T PUSH!)\n",
    "- A, push.\n",
    "- B, try to pull. \n",
    "\n",
    "```\n",
    "error: Your local changes to the following files would be overwritten by merge:\n",
    "\tfile102.txt\n",
    "Please, commit your changes or stash them before you can merge.\n",
    "Aborting\n",
    "```"
   ]
  },
  {
   "cell_type": "markdown",
   "metadata": {},
   "source": [
    "## 4.3 ##\n",
    "\n",
    "What do do about conflict? You have several options:\n",
    "1. Person B backs down and reverts their file to a common ancestor version:\n",
    "  - git checkout HEAD~1 file102.txt\n",
    "  - Now B can pull and everyone will be on the same page. \n",
    "2. Person B pulls, fixes the conflicts, and pushes back up.  \n",
    " \n",
    "https://easyengine.io/tutorials/git/git-resolve-merge-conflicts/"
   ]
  },
  {
   "cell_type": "code",
   "execution_count": null,
   "metadata": {
    "collapsed": true
   },
   "outputs": [],
   "source": []
  }
 ],
 "metadata": {
  "kernelspec": {
   "display_name": "Python 3",
   "language": "python",
   "name": "python3"
  },
  "language_info": {
   "codemirror_mode": {
    "name": "ipython",
    "version": 3
   },
   "file_extension": ".py",
   "mimetype": "text/x-python",
   "name": "python",
   "nbconvert_exporter": "python",
   "pygments_lexer": "ipython3",
   "version": "3.5.2"
  }
 },
 "nbformat": 4,
 "nbformat_minor": 2
}
