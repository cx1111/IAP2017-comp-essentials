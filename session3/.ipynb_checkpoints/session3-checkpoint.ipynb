{
 "cells": [
  {
   "cell_type": "markdown",
   "metadata": {},
   "source": [
    "# Version control with Git #\n"
   ]
  },
  {
   "cell_type": "code",
   "execution_count": null,
   "metadata": {
    "collapsed": true
   },
   "outputs": [],
   "source": [
    "\n",
    "Changes to be committed:\n",
    "  (use \"git reset HEAD <file>...\" to unstage)\n",
    "\n",
    "\tnew file:   .gitignore\n",
    "\trenamed:    gitnotes -> gitnotes.txt\n",
    "        \n",
    "chen@pc73:~/Documents/programmingnotes$ git reset HEAD .gitignore\n",
    "chen@pc73:~/Documents/programmingnotes$ git status\n",
    "On branch master\n",
    "Your branch is up-to-date with 'origin/master'.\n",
    "Changes to be committed:\n",
    "  (use \"git reset HEAD <file>...\" to unstage)\n",
    "\n",
    "\trenamed:    gitnotes -> gitnotes.txt\n",
    "\n",
    "Untracked files:\n",
    "  (use \"git add <file>...\" to include in what will be committed)\n",
    "\n",
    "\t.gitignore\n"
   ]
  },
  {
   "cell_type": "markdown",
   "metadata": {
    "collapsed": true
   },
   "source": [
    "git branch  # lists branches\n",
    "git branch -r # lists remote branches\n",
    "git branch -a # lists all branches "
   ]
  },
  {
   "cell_type": "markdown",
   "metadata": {},
   "source": [
    "## Checking differences\n",
    "git diff COMMITHASH COMMITHASH \n",
    "git diff COMMITHASH COMMITHASH file\n",
    "git diff HEAD~2 HEAD\n"
   ]
  },
  {
   "cell_type": "markdown",
   "metadata": {},
   "source": [
    "## Conflicting Merges ##\n",
    "\n",
    "`error: Your local changes to the following files would be overwritten by merge:\n",
    "\tlinux.md\n",
    "Please, commit your changes or stash them before you can merge.\n",
    "Aborting`\n",
    "\n",
    "\n",
    "### Stashing ###\n",
    "\n",
    "\n",
    "Use git stash when you want to record the current state of the working directory and the index, but want to go back to a clean working directory. The command saves your\n",
    "       local modifications away and reverts the working directory to match the HEAD commit.\n",
    "       \n",
    "The modifications stashed away by this command can be listed with git stash list, inspected with git stash show, and restored (potentially on top of a different commit)\n",
    "       with git stash apply.\n",
    "       \n",
    "       \n",
    "git stash \n",
    "\n",
    "Saved working directory and index state WIP on master: 3d936ca Merge branch 'master' of github.com:cx1111/ProgrammingNotes\n",
    "HEAD is now at 3d936ca Merge branch 'master' of github.com:cx1111/ProgrammingNotes\n",
    "\n"
   ]
  },
  {
   "cell_type": "code",
   "execution_count": null,
   "metadata": {
    "collapsed": true
   },
   "outputs": [],
   "source": [
    "\n",
    "\n",
    "Pull requests(1)\n",
    "\n",
    "Tom did some work on the remote 'dev' branch. Wants to merge into master. \n",
    "\n",
    "git merge --help\n",
    "\n",
    "\n",
    "Step 1: From your project repository, bring in the changes and test.\n",
    "\n",
    "git fetch origin # Get the changes in the remote\n",
    "git checkout -b dev origin/dev # Create a new branch called 'dev' that tracks origin/dev. Switch to the dev branch. \n",
    "git merge master # Add the changes of master into those of dev. (called it and already up to date because I didn't add anything to master)\n",
    "\n",
    "Step 2: Merge the changes and update on GitHub.\n",
    "\n",
    "git checkout master # Switch to master. Switched to branch 'master' Your branch is behind 'origin/master' by 2 commits, and can be fast-forwarded. (use \"git pull\" to update your local branch)\n",
    "git merge --no-ff dev # Merge the dev changes on top of master, but don't just adjust pointer.\n",
    "# Actually I just git merged. It asked me for a message which I left as 'merge dev'. Output cmd line: 'Merge made by the 'recursive' strategy.\n",
    "git push origin master"
   ]
  }
 ],
 "metadata": {
  "kernelspec": {
   "display_name": "Python 3",
   "language": "python",
   "name": "python3"
  },
  "language_info": {
   "codemirror_mode": {
    "name": "ipython",
    "version": 3
   },
   "file_extension": ".py",
   "mimetype": "text/x-python",
   "name": "python",
   "nbconvert_exporter": "python",
   "pygments_lexer": "ipython3",
   "version": "3.5.2"
  }
 },
 "nbformat": 4,
 "nbformat_minor": 2
}
