{
 "cells": [
  {
   "cell_type": "markdown",
   "metadata": {},
   "source": [
    "# Version control with Git #\n"
   ]
  },
  {
   "cell_type": "markdown",
   "metadata": {},
   "source": [
    "References:\n",
    "- https://git-scm.com/doc\n",
    "- http://swcarpentry.github.io/git-novice/\n",
    "- http://git-school.github.io/visualizing-git/\n",
    "\n",
    "Disclaimer: I deliberately leave out a lot of details. If you want to know anything or see something amiss, please ask me or read the official git documentation."
   ]
  },
  {
   "cell_type": "markdown",
   "metadata": {},
   "source": [
    "![image](http://swcarpentry.github.io/git-novice/fig/phd101212s.png)"
   ]
  },
  {
   "cell_type": "markdown",
   "metadata": {},
   "source": [
    "## Introduction to Git ##\n",
    "\n",
    "Git is a widely used version control software that lets us keep track of changes in our files. \n",
    "\n",
    "## Why Version Control with Git? ##\n",
    "\n",
    "- Able to retrieve past versions of a file.\n",
    "  - Avoid having to save multiple copies of the same file under different names at different points of its history.\n",
    "  - If you keep one copy without version control, you will (essentially) never be able to retrieve past versions of files.\n",
    "- Able to view changes and developments in your work. \n",
    "- Backs up your files in case you accidentally delete them. \n",
    "- You can host git repositories on remote servers such as Github and Bitbucket in order to work collaboratively. This simultaneously serves as a cloud backup for your files. \n",
    "\n",
    "![image](https://git-scm.com/book/en/v2/images/local.png)\n",
    "\n",
    "## How do you track files in Git? ##\n",
    "\n",
    "Git stores data as a series of snapshots. Work on the files in your project like normal. When you decide that you want to take a snapshot of the state of your project:\n",
    "\n",
    "1. Choose the changed content you want to keep track of and add them to the staging area. \n",
    "2. Commit all the content in the staging area. \n",
    "\n",
    "\n",
    "Analogy: You are an artist who works with paintings (files). You can start new paintings, (create new files), work on paintings (edit files), and throw away paintings (delete files). You have a cameraman who takes pictures (commits) when you decide. \n",
    "\n",
    "1. You make a few new paintings and work on another painting. You choose to put them on a stage where the cameraman is ready to take a picture of them.\n",
    "2. You tell the cameraman to take a picture of all the paintings you put on the stage. Remember, if you work on some paintings or make some new paintings but you didn't put any of them onto the stage, the cameraman doesn't take a picture of anything.\n",
    "\n",
    "## How are things tracked in Git? ##\n",
    "\n",
    "Git stores data as a series of snapshots. When you make a commit, Git stores a **commit object** with a unique identifier that contains:\n",
    "    - A snapshot of the content you staged. \n",
    "    - A pointer to the commit object that was the direct parent of the commit*.\n",
    "    - Metadata: author and commit message.\n",
    "\n",
    "*or one pointer to each parent if the commit came from a merge\n",
    "\n",
    "![image](http://www.vogella.com/tutorials/Git/img/xcommitreference10.png.pagespeed.ic._47Nw4-jKb.png)\n",
    "![image](https://git-scm.com/figures/18333fig0301-tn.png)\n"
   ]
  },
  {
   "cell_type": "markdown",
   "metadata": {},
   "source": [
    "## Terminal Commands ##\n",
    "\n",
    "- When you specify directories, they can be full paths or a directory relative to your current directory. Full path starts with your system's root directory, which is **`/`** for OSX/Linux, and **`C:\\`** for Windows. \n",
    "- Single `.` means current directory, and double `..` means up one directory. For example, **`cd ..`** means change to upper directory. \n",
    "\n",
    "### OSX + Linux ###\n",
    "\n",
    "- Change directory to 'DIR': **`cd DIR`**\n",
    "    - Remember, your user home directory is **`/home/USERNAME/`**\n",
    "- Print out your current directory: **`pwd`**\n",
    "- Move file 'FILE' to directory 'DIR': **`mv FILE DIR`**\n",
    "- Remove file 'FILE': **`rm FILE`**\n",
    "- Remove directory 'DIR' and its contents: **`rm -rf DIR`**\n",
    "- View contents of current directory: **`ls`**\n",
    "    - Including hidden files: **`ls -a`**\n",
    "    - View contents of a target directory: **`ls DIR`**\n",
    "- Open the file explorer in the directory 'DIR'\n",
    "    - OSX: **`open DIR`**\n",
    "    - Linux: **`nautilus DIR`**\n",
    "    \n",
    "### Windows ###\n",
    "\n",
    "- Change directory to 'DIR': **`cd DIR`**\n",
    "    - Remember, your user home directory is **`C:\\Users\\USERNAME\\**`\n",
    "- Print out your current directory: **`echo %cd%`**\n",
    "- Move file 'FILE' to directory 'DIR': **`move FILE DIR`**\n",
    "- Remove file 'FILE': **`del FILE`**\n",
    "- Remove directory 'DIR' and its contents: **`rd /s /q`**\n",
    "- View contents of current directory (including hidden files): **`dir`**\n",
    "    - View contents of a target directory: **`dir DIR`**\n",
    "- Open the file explorer in the directory 'DIR': **`explorer DIR`**"
   ]
  },
  {
   "cell_type": "markdown",
   "metadata": {},
   "source": [
    "## Setup ##\n",
    "\n",
    "### Install Git ### \n",
    "\n",
    "https://git-scm.com/downloads for windows and mac. Linux comes with git. Run the installer.\n",
    "\n",
    "### Ensure the git executable directory is in your PATH environment variable ###\n",
    "\n",
    "`where git` for windows to check. Default: `C:\\Program Files\\Git\\bin`\n",
    "\n",
    "`which git` for osx and linux to check. Default: `/usr/bin/git` or `/usr/local/git/bin`\n",
    "\n",
    "See 'environment variables' near the top of this document https://github.com/cx1111/IAP2017-comp-essentials/blob/master/session1/session1.ipynb if you need help. \n",
    "\n",
    "### Configure user in git ###\n",
    "\n",
    "`git config --global user.name \"First Last\"`\n",
    "\n",
    "`git config --global user.email \"myemail@emaildomain.com\"`\n",
    "\n"
   ]
  },
  {
   "cell_type": "markdown",
   "metadata": {},
   "source": [
    "# Git observation commands #\n",
    "\n",
    "- Help documentation: **`git --help`**\n",
    "- Help documentation for a specific command: **`git COMMAND --help`** \n",
    "- The current status of the git repo: **`git status`**\n",
    "- The history of the git rep: **`git log`**\n",
    "- See the files being tracked (in the master branch): **`git ls-tree -r master --name-only`**\n",
    "- Checking differences between snapshots\n",
    "  - Specify snapshots with HEAD: **`git diff HEAD~2 HEAD`**\n",
    "  - Specify snapshots with the commit hashes: **`git diff COMMITHASHold COMMITHASHnew `**\n",
    "  - For just one file: **`git diff COMMITHASHold COMMITHASHnew file`**\n",
    "- List branches\n",
    "  - Local: **`git branch`**\n",
    "  - Remote: **`git branch -r`**\n",
    "  - All: **`git branch -a`**"
   ]
  },
  {
   "cell_type": "markdown",
   "metadata": {},
   "source": [
    "# Section 1 - Single branch no remotes #"
   ]
  },
  {
   "cell_type": "markdown",
   "metadata": {},
   "source": [
    "## 1.0. Initialize a Git repository ##\n",
    "\n",
    "1. Choose a directory to start a new project in. For instance: \n",
    "  - **`/home/USER/Downloads/Gitintro/`** (OSX/Linux) \n",
    "  - **`C:\\Users\\USER\\Downloads\\Gitintro\\`** (Windows)\n",
    "2. Change into that directory.\n",
    "3. Initialize the git repository: `git init`"
   ]
  },
  {
   "cell_type": "markdown",
   "metadata": {},
   "source": [
    "## 1.1. ##\n",
    "\n",
    "- Create 2 text files with the following content:\n",
    "  1. file1.txt - I am Neo\n",
    "  2. file2.txt - I am Morpheus\n",
    "- Add file1.txt to the staging area: **git add file1.txt**\n",
    "- Take a look at the status of your git workspace: **git status**\n",
    "- Commit your staged changes (with a message explaining the commit): **git commit -m \"writing about Neo\"**\n",
    "- Take a look at the status of your git workspace: **git status**\n"
   ]
  },
  {
   "cell_type": "markdown",
   "metadata": {},
   "source": [
    "## 1.2. ##\n",
    "\n",
    "- Create a new text file: file3.txt - I am Trinity\n",
    "- Edit file1.txt: - I am Neo. I am the chosen one.\n",
    "- Add file1.txt and file3.txt to the staging area: **git add file1.txt file3.txt**\n",
    "- Commit your staged changes: **git commit -m \"Added about Neo, started with Trinity\"**\n",
    "- Take a look at the repo status: **git status**\n",
    "- See the difference between the files of this commit and those of the last commit: **git diff HEAD~1 HEAD**"
   ]
  },
  {
   "cell_type": "markdown",
   "metadata": {},
   "source": [
    "## 1.3. ##\n",
    "\n",
    "- Delete file3.txt\n",
    "- Take a look at the repo status: **git status**\n",
    "- Stage the fact that we deleted file3.txt: **git add file3.txt**\n",
    "- Decide that we should start keeping track of file2.txt. Stage it: **git add file2.txt**\n",
    "- Take a look at the repo status: **git status**\n",
    "- Commit your staged changes: **git commit -m \"Removed trinity, started with Morpheus\"**"
   ]
  },
  {
   "cell_type": "markdown",
   "metadata": {},
   "source": [
    "## 1.4. ##\n",
    "\n",
    "- Check out your history: **git log**\n",
    "- Realize that we miss Trinity. Get her back: **git checkout HEAD~1 file3.txt**\n",
    "- Stage this change: **git commit -m \"Retrieved Trinity\"**\n",
    "- List all the files that are currently being tracked: **`git ls-tree -r master --name-only`**"
   ]
  },
  {
   "cell_type": "markdown",
   "metadata": {},
   "source": [
    "# Section 2 - 2 branches no remotes #"
   ]
  },
  {
   "cell_type": "markdown",
   "metadata": {},
   "source": [
    "# 2.0 #\n",
    "\n",
    "- List all the branches of this repo and see what branch we are on: **git branch**\n",
    "- Create a new branch because we want to start writing about agents. Also change to that branch. Choose ONE of the following:\n",
    "  - **git checkout -b agents**\n",
    "  - **git branch agents** followed by **git checkout agents**\n",
    "- Check out the history of this branch: **git log**\n"
   ]
  },
  {
   "cell_type": "markdown",
   "metadata": {},
   "source": [
    "# 2.1 #\n",
    "\n",
    "- Create 3 agent files \n",
    "  - file101.txt - I am Smith\n",
    "  - file102.txt - I am Brown\n",
    "  - file103.txt - I am Jones \n",
    "- Append file1.txt - I got punched by Smith. \n",
    "- Stage all your changes. You should know this!\n",
    "- Commit your stages changes: **git commit -m \"added 3 agents and punched Neo\"**"
   ]
  },
  {
   "cell_type": "markdown",
   "metadata": {},
   "source": [
    "## 2.2 ##\n",
    "\n",
    "- Change back to the master branch: **git checkout master**\n",
    "- Print the list of files in your directory, or open your file explorer. Which files do you see/not see? How's file1.txt doing?\n",
    "- Change back to the agents branch and take a look at the files. **git checkout agents**\n",
    "- Change back to the master branch.\n",
    "- We decide that the agents branch has good content. Merge the changes of the agents branch on top of the master branch (no need to stage and commit): **git merge agents**\n",
    "\n",
    "What would this look like in the git workflow? What does it mean when it says fastforward? "
   ]
  },
  {
   "cell_type": "markdown",
   "metadata": {},
   "source": [
    "## 2.3 ##\n",
    "\n",
    "- Append file1.txt - I see dead people\n",
    "- Stage it\n",
    "- Oops wrong movie! Unstage it: **git reset HEAD file1.txt**\n",
    "- Take a look at the file. \n",
    "- Discard changes: **git checkout file1.txt**\n",
    "- Take a look at the file. \n",
    "- Check out the state of the repo: **git status**\n",
    "- Append file1.txt - I see the Matrix\n",
    "- Stage and commit all edits in one step: git commit -am \"Neo has become aware\""
   ]
  },
  {
   "cell_type": "markdown",
   "metadata": {},
   "source": [
    "## 2.4 ##\n",
    "\n",
    "- Change to agents branch \n",
    "- Append file101.txt - I am corrupted\n",
    "- Create new file filex.txt - I snuck in\n",
    "- **git status**\n",
    "- Just run this: **git commit -am \"Smith is corrupted\"**\n",
    "- **git status**\n",
    "- Hey what happened? Why is filex.txt still untracked? Because git commit -am doesn't affect untracked files! You can use -am but don't get lazy and forget to stage new untracked files, and don't forget the difference between the staging area and a commit. \n"
   ]
  },
  {
   "cell_type": "markdown",
   "metadata": {},
   "source": [
    "## 2.5 ##\n",
    "\n",
    "- Change back to "
   ]
  },
  {
   "cell_type": "markdown",
   "metadata": {},
   "source": []
  },
  {
   "cell_type": "markdown",
   "metadata": {},
   "source": []
  },
  {
   "cell_type": "markdown",
   "metadata": {},
   "source": []
  },
  {
   "cell_type": "markdown",
   "metadata": {},
   "source": [
    "## Remote Repositories ##\n",
    "\n",
    "![image](https://git-scm.com/book/en/v2/images/distributed.png)\n",
    "\n",
    "Note - 'Server' is Github in this workshop."
   ]
  },
  {
   "cell_type": "markdown",
   "metadata": {},
   "source": [
    "# Section 3 - 1 branch 1 remote #"
   ]
  },
  {
   "cell_type": "code",
   "execution_count": null,
   "metadata": {
    "collapsed": true
   },
   "outputs": [],
   "source": [
    "\n",
    "Changes to be committed:\n",
    "  (use \"git reset HEAD <file>...\" to unstage)\n",
    "\n",
    "\tnew file:   .gitignore\n",
    "\trenamed:    gitnotes -> gitnotes.txt\n",
    "        \n",
    "chen@pc73:~/Documents/programmingnotes$ git reset HEAD .gitignore\n",
    "chen@pc73:~/Documents/programmingnotes$ git status\n",
    "On branch master\n",
    "Your branch is up-to-date with 'origin/master'.\n",
    "Changes to be committed:\n",
    "  (use \"git reset HEAD <file>...\" to unstage)\n",
    "\n",
    "\trenamed:    gitnotes -> gitnotes.txt\n",
    "\n",
    "Untracked files:\n",
    "  (use \"git add <file>...\" to include in what will be committed)\n",
    "\n",
    "\t.gitignore\n"
   ]
  },
  {
   "cell_type": "markdown",
   "metadata": {},
   "source": []
  },
  {
   "cell_type": "markdown",
   "metadata": {
    "collapsed": true
   },
   "source": [
    "git branch  # lists branches\n",
    "git branch -r # lists remote branches\n",
    "git branch -a # lists all branches "
   ]
  },
  {
   "cell_type": "markdown",
   "metadata": {},
   "source": [
    "\n"
   ]
  },
  {
   "cell_type": "markdown",
   "metadata": {},
   "source": [
    "## Conflicting Merges ##\n",
    "\n",
    "`error: Your local changes to the following files would be overwritten by merge:\n",
    "\tlinux.md\n",
    "Please, commit your changes or stash them before you can merge.\n",
    "Aborting`\n",
    "\n",
    "\n",
    "### Stashing ###\n",
    "\n",
    "\n",
    "Use git stash when you want to record the current state of the working directory and the index, but want to go back to a clean working directory. The command saves your\n",
    "       local modifications away and reverts the working directory to match the HEAD commit.\n",
    "       \n",
    "The modifications stashed away by this command can be listed with git stash list, inspected with git stash show, and restored (potentially on top of a different commit)\n",
    "       with git stash apply.\n",
    "       \n",
    "       \n",
    "git stash \n",
    "\n",
    "Saved working directory and index state WIP on master: 3d936ca Merge branch 'master' of github.com:cx1111/ProgrammingNotes\n",
    "HEAD is now at 3d936ca Merge branch 'master' of github.com:cx1111/ProgrammingNotes\n",
    "\n"
   ]
  },
  {
   "cell_type": "code",
   "execution_count": null,
   "metadata": {
    "collapsed": true
   },
   "outputs": [],
   "source": [
    "\n",
    "\n",
    "Pull requests(1)\n",
    "\n",
    "Tom did some work on the remote 'dev' branch. Wants to merge into master. \n",
    "\n",
    "git merge --help\n",
    "\n",
    "\n",
    "Step 1: From your project repository, bring in the changes and test.\n",
    "\n",
    "git fetch origin # Get the changes in the remote\n",
    "git checkout -b dev origin/dev # Create a new branch called 'dev' that tracks origin/dev. Switch to the dev branch. \n",
    "git merge master # Add the changes of master into those of dev. (called it and already up to date because I didn't add anything to master)\n",
    "\n",
    "Step 2: Merge the changes and update on GitHub.\n",
    "\n",
    "git checkout master # Switch to master. Switched to branch 'master' Your branch is behind 'origin/master' by 2 commits, and can be fast-forwarded. (use \"git pull\" to update your local branch)\n",
    "git merge --no-ff dev # Merge the dev changes on top of master, but don't just adjust pointer.\n",
    "# Actually I just git merged. It asked me for a message which I left as 'merge dev'. Output cmd line: 'Merge made by the 'recursive' strategy.\n",
    "git push origin master"
   ]
  }
 ],
 "metadata": {
  "kernelspec": {
   "display_name": "Python 3",
   "language": "python",
   "name": "python3"
  },
  "language_info": {
   "codemirror_mode": {
    "name": "ipython",
    "version": 3
   },
   "file_extension": ".py",
   "mimetype": "text/x-python",
   "name": "python",
   "nbconvert_exporter": "python",
   "pygments_lexer": "ipython3",
   "version": "3.5.2"
  }
 },
 "nbformat": 4,
 "nbformat_minor": 2
}
